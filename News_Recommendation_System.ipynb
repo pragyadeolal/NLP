{
 "cells": [
  {
   "cell_type": "markdown",
   "metadata": {
    "colab": {
     "base_uri": "https://localhost:8080/"
    },
    "id": "5m7JTgbUWLiB",
    "outputId": "59e028f4-d48b-44bb-9d0d-273b2f2acf1b"
   },
   "source": [
    "## Project - News Recommendation System"
   ]
  },
  {
   "cell_type": "markdown",
   "metadata": {},
   "source": [
    "### Problem Statement:\n",
    "\n",
    "iPrint is an upcoming media house in India that offers media and information services to the people. The company’s business extends across a wide range of media, including news and information services on sports, weather, education, health, research, stocks and healthcare. Over the years, through its online application, iPrint has been efficiently delivering news and information to the common people. However, with time and technological advancements, several new competitors of iPrint have emerged in the market. Hence, it has decided to begin providing a more personalised experience to its customers.\n",
    "\n",
    "iPrint wants you as a data scientist to identify and build an appropriate recommendation system that would:\n",
    "\n",
    " - Recommend new top 10 relevant articles to a user when he visits the app at the start of the day\n",
    " - Recommend top 10 similar news articles that match the ones clicked by the user.\n",
    "\n",
    "\n",
    "You have to ensure that the system does not recommend any news article that has been pulled out from the app or has already been seen by the user. The final generated list must contain the names of the recommended articles, along with their IDs."
   ]
  },
  {
   "cell_type": "markdown",
   "metadata": {},
   "source": [
    "#### Importing the required modules and datasets"
   ]
  },
  {
   "cell_type": "code",
   "execution_count": 73,
   "metadata": {},
   "outputs": [
    {
     "name": "stderr",
     "output_type": "stream",
     "text": [
      "[nltk_data] Downloading package punkt to\n",
      "[nltk_data]     /Users/pallavideolal/nltk_data...\n",
      "[nltk_data]   Package punkt is already up-to-date!\n",
      "[nltk_data] Downloading package stopwords to\n",
      "[nltk_data]     /Users/pallavideolal/nltk_data...\n",
      "[nltk_data]   Package stopwords is already up-to-date!\n",
      "[nltk_data] Downloading package averaged_perceptron_tagger to\n",
      "[nltk_data]     /Users/pallavideolal/nltk_data...\n",
      "[nltk_data]   Package averaged_perceptron_tagger is already up-to-\n",
      "[nltk_data]       date!\n",
      "[nltk_data] Downloading package wordnet to\n",
      "[nltk_data]     /Users/pallavideolal/nltk_data...\n",
      "[nltk_data]   Package wordnet is already up-to-date!\n",
      "[nltk_data] Downloading package omw-1.4 to\n",
      "[nltk_data]     /Users/pallavideolal/nltk_data...\n",
      "[nltk_data]   Package omw-1.4 is already up-to-date!\n",
      "[nltk_data] Downloading package punkt to\n",
      "[nltk_data]     /Users/pallavideolal/nltk_data...\n",
      "[nltk_data]   Package punkt is already up-to-date!\n",
      "[nltk_data] Downloading package stopwords to\n",
      "[nltk_data]     /Users/pallavideolal/nltk_data...\n",
      "[nltk_data]   Package stopwords is already up-to-date!\n"
     ]
    }
   ],
   "source": [
    "#Import the required libraries\n",
    "\n",
    "import pandas as pd\n",
    "import numpy as np\n",
    "import matplotlib.pyplot as plt\n",
    "import seaborn as sns\n",
    "import datetime\n",
    "from datetime import datetime,timedelta\n",
    "import re\n",
    "import warnings\n",
    "warnings.filterwarnings('ignore')\n",
    "\n",
    "import nltk\n",
    "from nltk import download\n",
    "from nltk import word_tokenize         \n",
    "from nltk.corpus import stopwords\n",
    "from nltk.tokenize import word_tokenize\n",
    "from nltk.stem import WordNetLemmatizer\n",
    "lemmatizer = WordNetLemmatizer()\n",
    "stop_words = stopwords.words('english')\n",
    "VERB_CODES = {'VB', 'VBD', 'VBG', 'VBN', 'VBP', 'VBZ'}\n",
    "\n",
    "nltk.download('punkt')\n",
    "nltk.download('stopwords')\n",
    "nltk.download('averaged_perceptron_tagger')\n",
    "nltk.download('wordnet')\n",
    "nltk.download('omw-1.4')\n",
    "\n",
    "download('punkt')\n",
    "download('stopwords')\n",
    "               \n",
    "stop_words = stopwords.words('english')\n",
    "\n",
    "from gensim import corpora\n",
    "from gensim.models import TfidfModel\n",
    "from gensim.models import LsiModel\n",
    "from gensim.similarities import MatrixSimilarity\n",
    "\n",
    "from sklearn.feature_extraction.text import TfidfVectorizer\n",
    "from sklearn.metrics.pairwise import cosine_similarity\n",
    "\n",
    "from sklearn.cluster import KMeans\n",
    "from sklearn.feature_extraction.text import TfidfVectorizer\n",
    "from sklearn.metrics import silhouette_score\n",
    "from sklearn.decomposition import LatentDirichletAllocation\n",
    "from sklearn.datasets import fetch_20newsgroups\n",
    "\n",
    "\n",
    "            "
   ]
  },
  {
   "cell_type": "code",
   "execution_count": 74,
   "metadata": {
    "id": "ot7TnRaHWZg9"
   },
   "outputs": [],
   "source": [
    "#loading the datasets\n",
    "\n",
    "df_platform = pd.read_csv('platform_content.csv')"
   ]
  },
  {
   "cell_type": "code",
   "execution_count": 75,
   "metadata": {
    "colab": {
     "base_uri": "https://localhost:8080/",
     "height": 669
    },
    "id": "3Tnk0KnzW5r8",
    "outputId": "0f0a63b6-3d27-4db1-ab26-e0cecdf8f640"
   },
   "outputs": [
    {
     "data": {
      "text/html": [
       "<div>\n",
       "<style scoped>\n",
       "    .dataframe tbody tr th:only-of-type {\n",
       "        vertical-align: middle;\n",
       "    }\n",
       "\n",
       "    .dataframe tbody tr th {\n",
       "        vertical-align: top;\n",
       "    }\n",
       "\n",
       "    .dataframe thead th {\n",
       "        text-align: right;\n",
       "    }\n",
       "</style>\n",
       "<table border=\"1\" class=\"dataframe\">\n",
       "  <thead>\n",
       "    <tr style=\"text-align: right;\">\n",
       "      <th></th>\n",
       "      <th>event_timestamp</th>\n",
       "      <th>interaction_type</th>\n",
       "      <th>item_id</th>\n",
       "      <th>producer_id</th>\n",
       "      <th>producer_session_id</th>\n",
       "      <th>producer_device_info</th>\n",
       "      <th>producer_location</th>\n",
       "      <th>producer_country</th>\n",
       "      <th>item_type</th>\n",
       "      <th>item_url</th>\n",
       "      <th>title</th>\n",
       "      <th>text_description</th>\n",
       "      <th>language</th>\n",
       "    </tr>\n",
       "  </thead>\n",
       "  <tbody>\n",
       "    <tr>\n",
       "      <th>0</th>\n",
       "      <td>1459192779</td>\n",
       "      <td>content_pulled_out</td>\n",
       "      <td>-6451309518266745024</td>\n",
       "      <td>4340306774493623681</td>\n",
       "      <td>8940341205206233829</td>\n",
       "      <td>NaN</td>\n",
       "      <td>NaN</td>\n",
       "      <td>NaN</td>\n",
       "      <td>HTML</td>\n",
       "      <td>http://www.nytimes.com/2016/03/28/business/dea...</td>\n",
       "      <td>Ethereum, a Virtual Currency, Enables Transact...</td>\n",
       "      <td>All of this work is still very early. The firs...</td>\n",
       "      <td>en</td>\n",
       "    </tr>\n",
       "    <tr>\n",
       "      <th>1</th>\n",
       "      <td>1459193988</td>\n",
       "      <td>content_present</td>\n",
       "      <td>-4110354420726924665</td>\n",
       "      <td>4340306774493623681</td>\n",
       "      <td>8940341205206233829</td>\n",
       "      <td>NaN</td>\n",
       "      <td>NaN</td>\n",
       "      <td>NaN</td>\n",
       "      <td>HTML</td>\n",
       "      <td>http://www.nytimes.com/2016/03/28/business/dea...</td>\n",
       "      <td>Ethereum, a Virtual Currency, Enables Transact...</td>\n",
       "      <td>All of this work is still very early. The firs...</td>\n",
       "      <td>en</td>\n",
       "    </tr>\n",
       "    <tr>\n",
       "      <th>2</th>\n",
       "      <td>1459194146</td>\n",
       "      <td>content_present</td>\n",
       "      <td>-7292285110016212249</td>\n",
       "      <td>4340306774493623681</td>\n",
       "      <td>8940341205206233829</td>\n",
       "      <td>NaN</td>\n",
       "      <td>NaN</td>\n",
       "      <td>NaN</td>\n",
       "      <td>HTML</td>\n",
       "      <td>http://cointelegraph.com/news/bitcoin-future-w...</td>\n",
       "      <td>Bitcoin Future: When GBPcoin of Branson Wins O...</td>\n",
       "      <td>The alarm clock wakes me at 8:00 with stream o...</td>\n",
       "      <td>en</td>\n",
       "    </tr>\n",
       "    <tr>\n",
       "      <th>3</th>\n",
       "      <td>1459194474</td>\n",
       "      <td>content_present</td>\n",
       "      <td>-6151852268067518688</td>\n",
       "      <td>3891637997717104548</td>\n",
       "      <td>-1457532940883382585</td>\n",
       "      <td>NaN</td>\n",
       "      <td>NaN</td>\n",
       "      <td>NaN</td>\n",
       "      <td>HTML</td>\n",
       "      <td>https://cloudplatform.googleblog.com/2016/03/G...</td>\n",
       "      <td>Google Data Center 360° Tour</td>\n",
       "      <td>We're excited to share the Google Data Center ...</td>\n",
       "      <td>en</td>\n",
       "    </tr>\n",
       "    <tr>\n",
       "      <th>4</th>\n",
       "      <td>1459194497</td>\n",
       "      <td>content_present</td>\n",
       "      <td>2448026894306402386</td>\n",
       "      <td>4340306774493623681</td>\n",
       "      <td>8940341205206233829</td>\n",
       "      <td>NaN</td>\n",
       "      <td>NaN</td>\n",
       "      <td>NaN</td>\n",
       "      <td>HTML</td>\n",
       "      <td>https://bitcoinmagazine.com/articles/ibm-wants...</td>\n",
       "      <td>IBM Wants to \"Evolve the Internet\" With Blockc...</td>\n",
       "      <td>The Aite Group projects the blockchain market ...</td>\n",
       "      <td>en</td>\n",
       "    </tr>\n",
       "  </tbody>\n",
       "</table>\n",
       "</div>"
      ],
      "text/plain": [
       "   event_timestamp    interaction_type              item_id  \\\n",
       "0       1459192779  content_pulled_out -6451309518266745024   \n",
       "1       1459193988     content_present -4110354420726924665   \n",
       "2       1459194146     content_present -7292285110016212249   \n",
       "3       1459194474     content_present -6151852268067518688   \n",
       "4       1459194497     content_present  2448026894306402386   \n",
       "\n",
       "           producer_id  producer_session_id producer_device_info  \\\n",
       "0  4340306774493623681  8940341205206233829                  NaN   \n",
       "1  4340306774493623681  8940341205206233829                  NaN   \n",
       "2  4340306774493623681  8940341205206233829                  NaN   \n",
       "3  3891637997717104548 -1457532940883382585                  NaN   \n",
       "4  4340306774493623681  8940341205206233829                  NaN   \n",
       "\n",
       "  producer_location producer_country item_type  \\\n",
       "0               NaN              NaN      HTML   \n",
       "1               NaN              NaN      HTML   \n",
       "2               NaN              NaN      HTML   \n",
       "3               NaN              NaN      HTML   \n",
       "4               NaN              NaN      HTML   \n",
       "\n",
       "                                            item_url  \\\n",
       "0  http://www.nytimes.com/2016/03/28/business/dea...   \n",
       "1  http://www.nytimes.com/2016/03/28/business/dea...   \n",
       "2  http://cointelegraph.com/news/bitcoin-future-w...   \n",
       "3  https://cloudplatform.googleblog.com/2016/03/G...   \n",
       "4  https://bitcoinmagazine.com/articles/ibm-wants...   \n",
       "\n",
       "                                               title  \\\n",
       "0  Ethereum, a Virtual Currency, Enables Transact...   \n",
       "1  Ethereum, a Virtual Currency, Enables Transact...   \n",
       "2  Bitcoin Future: When GBPcoin of Branson Wins O...   \n",
       "3                       Google Data Center 360° Tour   \n",
       "4  IBM Wants to \"Evolve the Internet\" With Blockc...   \n",
       "\n",
       "                                    text_description language  \n",
       "0  All of this work is still very early. The firs...       en  \n",
       "1  All of this work is still very early. The firs...       en  \n",
       "2  The alarm clock wakes me at 8:00 with stream o...       en  \n",
       "3  We're excited to share the Google Data Center ...       en  \n",
       "4  The Aite Group projects the blockchain market ...       en  "
      ]
     },
     "execution_count": 75,
     "metadata": {},
     "output_type": "execute_result"
    }
   ],
   "source": [
    "df_platform.head(5)"
   ]
  },
  {
   "cell_type": "code",
   "execution_count": 76,
   "metadata": {},
   "outputs": [
    {
     "name": "stdout",
     "output_type": "stream",
     "text": [
      "<class 'pandas.core.frame.DataFrame'>\n",
      "RangeIndex: 3122 entries, 0 to 3121\n",
      "Data columns (total 13 columns):\n",
      " #   Column                Non-Null Count  Dtype \n",
      "---  ------                --------------  ----- \n",
      " 0   event_timestamp       3122 non-null   int64 \n",
      " 1   interaction_type      3122 non-null   object\n",
      " 2   item_id               3122 non-null   int64 \n",
      " 3   producer_id           3122 non-null   int64 \n",
      " 4   producer_session_id   3122 non-null   int64 \n",
      " 5   producer_device_info  680 non-null    object\n",
      " 6   producer_location     680 non-null    object\n",
      " 7   producer_country      680 non-null    object\n",
      " 8   item_type             3122 non-null   object\n",
      " 9   item_url              3122 non-null   object\n",
      " 10  title                 3122 non-null   object\n",
      " 11  text_description      3122 non-null   object\n",
      " 12  language              3122 non-null   object\n",
      "dtypes: int64(4), object(9)\n",
      "memory usage: 317.2+ KB\n"
     ]
    }
   ],
   "source": [
    "df_platform.info()"
   ]
  },
  {
   "cell_type": "code",
   "execution_count": 77,
   "metadata": {},
   "outputs": [
    {
     "data": {
      "text/plain": [
       "(3122, 13)"
      ]
     },
     "execution_count": 77,
     "metadata": {},
     "output_type": "execute_result"
    }
   ],
   "source": [
    "df_platform.shape"
   ]
  },
  {
   "cell_type": "markdown",
   "metadata": {},
   "source": [
    "The dataset platform_content.csv has 13 columns and 3122 rows. \n",
    "Let's look at the missing values"
   ]
  },
  {
   "cell_type": "code",
   "execution_count": 78,
   "metadata": {},
   "outputs": [
    {
     "name": "stdout",
     "output_type": "stream",
     "text": [
      "nMissing values:   7326\n"
     ]
    },
    {
     "data": {
      "text/plain": [
       "event_timestamp            0\n",
       "interaction_type           0\n",
       "item_id                    0\n",
       "producer_id                0\n",
       "producer_session_id        0\n",
       "producer_device_info    2442\n",
       "producer_location       2442\n",
       "producer_country        2442\n",
       "item_type                  0\n",
       "item_url                   0\n",
       "title                      0\n",
       "text_description           0\n",
       "language                   0\n",
       "dtype: int64"
      ]
     },
     "execution_count": 78,
     "metadata": {},
     "output_type": "execute_result"
    }
   ],
   "source": [
    "print('nMissing values:  ', df_platform.isnull().sum().values.sum())\n",
    "df_platform.isnull().sum()"
   ]
  },
  {
   "cell_type": "code",
   "execution_count": 79,
   "metadata": {},
   "outputs": [
    {
     "data": {
      "text/plain": [
       "event_timestamp         3121\n",
       "interaction_type           2\n",
       "item_id                 3057\n",
       "producer_id              252\n",
       "producer_session_id     2017\n",
       "producer_device_info     114\n",
       "producer_location         19\n",
       "producer_country           5\n",
       "item_type                  3\n",
       "item_url                3029\n",
       "title                   3011\n",
       "text_description        3019\n",
       "language                   5\n",
       "dtype: int64"
      ]
     },
     "execution_count": 79,
     "metadata": {},
     "output_type": "execute_result"
    }
   ],
   "source": [
    "df_platform.nunique()"
   ]
  },
  {
   "cell_type": "code",
   "execution_count": 80,
   "metadata": {},
   "outputs": [
    {
     "data": {
      "text/plain": [
       "array(['en', 'pt', 'es', 'la', 'ja'], dtype=object)"
      ]
     },
     "execution_count": 80,
     "metadata": {},
     "output_type": "execute_result"
    }
   ],
   "source": [
    "df_platform.language.unique()"
   ]
  },
  {
   "cell_type": "markdown",
   "metadata": {},
   "source": [
    "There are articles in 5 different languages in the platform_content.csv dataset. We need to make sure that only the articles that are written in the English language are considered, as specified in the problem statement. "
   ]
  },
  {
   "cell_type": "markdown",
   "metadata": {},
   "source": [
    "Statistical properties of the dataset:"
   ]
  },
  {
   "cell_type": "code",
   "execution_count": 81,
   "metadata": {},
   "outputs": [
    {
     "data": {
      "text/html": [
       "<div>\n",
       "<style scoped>\n",
       "    .dataframe tbody tr th:only-of-type {\n",
       "        vertical-align: middle;\n",
       "    }\n",
       "\n",
       "    .dataframe tbody tr th {\n",
       "        vertical-align: top;\n",
       "    }\n",
       "\n",
       "    .dataframe thead th {\n",
       "        text-align: right;\n",
       "    }\n",
       "</style>\n",
       "<table border=\"1\" class=\"dataframe\">\n",
       "  <thead>\n",
       "    <tr style=\"text-align: right;\">\n",
       "      <th></th>\n",
       "      <th>event_timestamp</th>\n",
       "      <th>item_id</th>\n",
       "      <th>producer_id</th>\n",
       "      <th>producer_session_id</th>\n",
       "    </tr>\n",
       "  </thead>\n",
       "  <tbody>\n",
       "    <tr>\n",
       "      <th>count</th>\n",
       "      <td>3.122000e+03</td>\n",
       "      <td>3.122000e+03</td>\n",
       "      <td>3.122000e+03</td>\n",
       "      <td>3.122000e+03</td>\n",
       "    </tr>\n",
       "    <tr>\n",
       "      <th>mean</th>\n",
       "      <td>1.468804e+09</td>\n",
       "      <td>3.284110e+16</td>\n",
       "      <td>3.984819e+17</td>\n",
       "      <td>1.976675e+17</td>\n",
       "    </tr>\n",
       "    <tr>\n",
       "      <th>std</th>\n",
       "      <td>7.571512e+06</td>\n",
       "      <td>5.383734e+18</td>\n",
       "      <td>4.387115e+18</td>\n",
       "      <td>5.403753e+18</td>\n",
       "    </tr>\n",
       "    <tr>\n",
       "      <th>min</th>\n",
       "      <td>1.459193e+09</td>\n",
       "      <td>-9.222795e+18</td>\n",
       "      <td>-9.120686e+18</td>\n",
       "      <td>-9.212055e+18</td>\n",
       "    </tr>\n",
       "    <tr>\n",
       "      <th>25%</th>\n",
       "      <td>1.462369e+09</td>\n",
       "      <td>-4.660869e+18</td>\n",
       "      <td>-1.578288e+18</td>\n",
       "      <td>-4.651280e+18</td>\n",
       "    </tr>\n",
       "    <tr>\n",
       "      <th>50%</th>\n",
       "      <td>1.467136e+09</td>\n",
       "      <td>4.436584e+16</td>\n",
       "      <td>-7.092877e+17</td>\n",
       "      <td>4.154103e+17</td>\n",
       "    </tr>\n",
       "    <tr>\n",
       "      <th>75%</th>\n",
       "      <td>1.473873e+09</td>\n",
       "      <td>4.745617e+18</td>\n",
       "      <td>3.609194e+18</td>\n",
       "      <td>4.841644e+18</td>\n",
       "    </tr>\n",
       "    <tr>\n",
       "      <th>max</th>\n",
       "      <td>1.488308e+09</td>\n",
       "      <td>9.222265e+18</td>\n",
       "      <td>9.210531e+18</td>\n",
       "      <td>9.221043e+18</td>\n",
       "    </tr>\n",
       "  </tbody>\n",
       "</table>\n",
       "</div>"
      ],
      "text/plain": [
       "       event_timestamp       item_id   producer_id  producer_session_id\n",
       "count     3.122000e+03  3.122000e+03  3.122000e+03         3.122000e+03\n",
       "mean      1.468804e+09  3.284110e+16  3.984819e+17         1.976675e+17\n",
       "std       7.571512e+06  5.383734e+18  4.387115e+18         5.403753e+18\n",
       "min       1.459193e+09 -9.222795e+18 -9.120686e+18        -9.212055e+18\n",
       "25%       1.462369e+09 -4.660869e+18 -1.578288e+18        -4.651280e+18\n",
       "50%       1.467136e+09  4.436584e+16 -7.092877e+17         4.154103e+17\n",
       "75%       1.473873e+09  4.745617e+18  3.609194e+18         4.841644e+18\n",
       "max       1.488308e+09  9.222265e+18  9.210531e+18         9.221043e+18"
      ]
     },
     "execution_count": 81,
     "metadata": {},
     "output_type": "execute_result"
    }
   ],
   "source": [
    "df_platform.describe()"
   ]
  },
  {
   "cell_type": "code",
   "execution_count": 82,
   "metadata": {
    "colab": {
     "base_uri": "https://localhost:8080/",
     "height": 288
    },
    "id": "OqW5atxMk-b6",
    "outputId": "73635df8-3611-4a73-bde4-f78f37359fe8"
   },
   "outputs": [
    {
     "data": {
      "text/html": [
       "<div>\n",
       "<style scoped>\n",
       "    .dataframe tbody tr th:only-of-type {\n",
       "        vertical-align: middle;\n",
       "    }\n",
       "\n",
       "    .dataframe tbody tr th {\n",
       "        vertical-align: top;\n",
       "    }\n",
       "\n",
       "    .dataframe thead th {\n",
       "        text-align: right;\n",
       "    }\n",
       "</style>\n",
       "<table border=\"1\" class=\"dataframe\">\n",
       "  <thead>\n",
       "    <tr style=\"text-align: right;\">\n",
       "      <th></th>\n",
       "      <th>event_timestamp</th>\n",
       "      <th>interaction_type</th>\n",
       "      <th>item_id</th>\n",
       "      <th>consumer_id</th>\n",
       "      <th>consumer_session_id</th>\n",
       "      <th>consumer_device_info</th>\n",
       "      <th>consumer_location</th>\n",
       "      <th>country</th>\n",
       "    </tr>\n",
       "  </thead>\n",
       "  <tbody>\n",
       "    <tr>\n",
       "      <th>0</th>\n",
       "      <td>1465413032</td>\n",
       "      <td>content_watched</td>\n",
       "      <td>-3499919498720038879</td>\n",
       "      <td>-8845298781299428018</td>\n",
       "      <td>1264196770339959068</td>\n",
       "      <td>NaN</td>\n",
       "      <td>NaN</td>\n",
       "      <td>NaN</td>\n",
       "    </tr>\n",
       "    <tr>\n",
       "      <th>1</th>\n",
       "      <td>1465412560</td>\n",
       "      <td>content_watched</td>\n",
       "      <td>8890720798209849691</td>\n",
       "      <td>-1032019229384696495</td>\n",
       "      <td>3621737643587579081</td>\n",
       "      <td>Mozilla/5.0 (Macintosh; Intel Mac OS X 10_11_2...</td>\n",
       "      <td>NY</td>\n",
       "      <td>US</td>\n",
       "    </tr>\n",
       "    <tr>\n",
       "      <th>2</th>\n",
       "      <td>1465416190</td>\n",
       "      <td>content_watched</td>\n",
       "      <td>310515487419366995</td>\n",
       "      <td>-1130272294246983140</td>\n",
       "      <td>2631864456530402479</td>\n",
       "      <td>NaN</td>\n",
       "      <td>NaN</td>\n",
       "      <td>NaN</td>\n",
       "    </tr>\n",
       "    <tr>\n",
       "      <th>3</th>\n",
       "      <td>1465413895</td>\n",
       "      <td>content_followed</td>\n",
       "      <td>310515487419366995</td>\n",
       "      <td>344280948527967603</td>\n",
       "      <td>-3167637573980064150</td>\n",
       "      <td>NaN</td>\n",
       "      <td>NaN</td>\n",
       "      <td>NaN</td>\n",
       "    </tr>\n",
       "    <tr>\n",
       "      <th>4</th>\n",
       "      <td>1465412290</td>\n",
       "      <td>content_watched</td>\n",
       "      <td>-7820640624231356730</td>\n",
       "      <td>-445337111692715325</td>\n",
       "      <td>561148 1178424124714</td>\n",
       "      <td>NaN</td>\n",
       "      <td>NaN</td>\n",
       "      <td>NaN</td>\n",
       "    </tr>\n",
       "  </tbody>\n",
       "</table>\n",
       "</div>"
      ],
      "text/plain": [
       "   event_timestamp  interaction_type              item_id  \\\n",
       "0       1465413032   content_watched -3499919498720038879   \n",
       "1       1465412560   content_watched  8890720798209849691   \n",
       "2       1465416190   content_watched   310515487419366995   \n",
       "3       1465413895  content_followed   310515487419366995   \n",
       "4       1465412290   content_watched -7820640624231356730   \n",
       "\n",
       "           consumer_id   consumer_session_id  \\\n",
       "0 -8845298781299428018   1264196770339959068   \n",
       "1 -1032019229384696495   3621737643587579081   \n",
       "2 -1130272294246983140   2631864456530402479   \n",
       "3   344280948527967603  -3167637573980064150   \n",
       "4  -445337111692715325  561148 1178424124714   \n",
       "\n",
       "                                consumer_device_info consumer_location country  \n",
       "0                                                NaN               NaN     NaN  \n",
       "1  Mozilla/5.0 (Macintosh; Intel Mac OS X 10_11_2...                NY      US  \n",
       "2                                                NaN               NaN     NaN  \n",
       "3                                                NaN               NaN     NaN  \n",
       "4                                                NaN               NaN     NaN  "
      ]
     },
     "execution_count": 82,
     "metadata": {},
     "output_type": "execute_result"
    }
   ],
   "source": [
    "#Importing the second dataset\n",
    "\n",
    "df_consumer = pd.read_csv('consumer_transanctions.csv')\n",
    "df_consumer.head(5)"
   ]
  },
  {
   "cell_type": "code",
   "execution_count": 83,
   "metadata": {},
   "outputs": [
    {
     "name": "stdout",
     "output_type": "stream",
     "text": [
      "<class 'pandas.core.frame.DataFrame'>\n",
      "RangeIndex: 72312 entries, 0 to 72311\n",
      "Data columns (total 8 columns):\n",
      " #   Column                Non-Null Count  Dtype \n",
      "---  ------                --------------  ----- \n",
      " 0   event_timestamp       72312 non-null  int64 \n",
      " 1   interaction_type      72312 non-null  object\n",
      " 2   item_id               72312 non-null  int64 \n",
      " 3   consumer_id           72312 non-null  int64 \n",
      " 4   consumer_session_id   72312 non-null  object\n",
      " 5   consumer_device_info  56918 non-null  object\n",
      " 6   consumer_location     56907 non-null  object\n",
      " 7   country               56918 non-null  object\n",
      "dtypes: int64(3), object(5)\n",
      "memory usage: 4.4+ MB\n"
     ]
    }
   ],
   "source": [
    "df_consumer.info()"
   ]
  },
  {
   "cell_type": "code",
   "execution_count": 84,
   "metadata": {},
   "outputs": [
    {
     "data": {
      "text/plain": [
       "(72312, 8)"
      ]
     },
     "execution_count": 84,
     "metadata": {},
     "output_type": "execute_result"
    }
   ],
   "source": [
    "df_consumer.shape"
   ]
  },
  {
   "cell_type": "code",
   "execution_count": 85,
   "metadata": {},
   "outputs": [
    {
     "data": {
      "text/plain": [
       "event_timestamp         68772\n",
       "interaction_type            5\n",
       "item_id                  2987\n",
       "consumer_id              1895\n",
       "consumer_session_id     28909\n",
       "consumer_device_info     1090\n",
       "consumer_location          71\n",
       "country                    23\n",
       "dtype: int64"
      ]
     },
     "execution_count": 85,
     "metadata": {},
     "output_type": "execute_result"
    }
   ],
   "source": [
    "df_consumer.nunique()"
   ]
  },
  {
   "cell_type": "code",
   "execution_count": 86,
   "metadata": {},
   "outputs": [
    {
     "name": "stdout",
     "output_type": "stream",
     "text": [
      "nMissing values:   46193\n"
     ]
    },
    {
     "data": {
      "text/plain": [
       "event_timestamp             0\n",
       "interaction_type            0\n",
       "item_id                     0\n",
       "consumer_id                 0\n",
       "consumer_session_id         0\n",
       "consumer_device_info    15394\n",
       "consumer_location       15405\n",
       "country                 15394\n",
       "dtype: int64"
      ]
     },
     "execution_count": 86,
     "metadata": {},
     "output_type": "execute_result"
    }
   ],
   "source": [
    "print('nMissing values:  ', df_consumer.isnull().sum().values.sum())\n",
    "df_consumer.isnull().sum()"
   ]
  },
  {
   "cell_type": "markdown",
   "metadata": {},
   "source": [
    "Statistical properties of the dataset:"
   ]
  },
  {
   "cell_type": "code",
   "execution_count": 87,
   "metadata": {},
   "outputs": [
    {
     "data": {
      "text/html": [
       "<div>\n",
       "<style scoped>\n",
       "    .dataframe tbody tr th:only-of-type {\n",
       "        vertical-align: middle;\n",
       "    }\n",
       "\n",
       "    .dataframe tbody tr th {\n",
       "        vertical-align: top;\n",
       "    }\n",
       "\n",
       "    .dataframe thead th {\n",
       "        text-align: right;\n",
       "    }\n",
       "</style>\n",
       "<table border=\"1\" class=\"dataframe\">\n",
       "  <thead>\n",
       "    <tr style=\"text-align: right;\">\n",
       "      <th></th>\n",
       "      <th>event_timestamp</th>\n",
       "      <th>item_id</th>\n",
       "      <th>consumer_id</th>\n",
       "    </tr>\n",
       "  </thead>\n",
       "  <tbody>\n",
       "    <tr>\n",
       "      <th>count</th>\n",
       "      <td>7.231200e+04</td>\n",
       "      <td>7.231200e+04</td>\n",
       "      <td>7.231200e+04</td>\n",
       "    </tr>\n",
       "    <tr>\n",
       "      <th>mean</th>\n",
       "      <td>1.470103e+09</td>\n",
       "      <td>-3.033423e+16</td>\n",
       "      <td>1.252026e+16</td>\n",
       "    </tr>\n",
       "    <tr>\n",
       "      <th>std</th>\n",
       "      <td>7.258130e+06</td>\n",
       "      <td>5.344755e+18</td>\n",
       "      <td>5.022333e+18</td>\n",
       "    </tr>\n",
       "    <tr>\n",
       "      <th>min</th>\n",
       "      <td>1.457964e+09</td>\n",
       "      <td>-9.222795e+18</td>\n",
       "      <td>-9.223122e+18</td>\n",
       "    </tr>\n",
       "    <tr>\n",
       "      <th>25%</th>\n",
       "      <td>1.464876e+09</td>\n",
       "      <td>-4.726309e+18</td>\n",
       "      <td>-3.596627e+18</td>\n",
       "    </tr>\n",
       "    <tr>\n",
       "      <th>50%</th>\n",
       "      <td>1.468343e+09</td>\n",
       "      <td>1.893099e+16</td>\n",
       "      <td>-1.088422e+17</td>\n",
       "    </tr>\n",
       "    <tr>\n",
       "      <th>75%</th>\n",
       "      <td>1.474461e+09</td>\n",
       "      <td>4.441012e+18</td>\n",
       "      <td>3.766319e+18</td>\n",
       "    </tr>\n",
       "    <tr>\n",
       "      <th>max</th>\n",
       "      <td>1.488310e+09</td>\n",
       "      <td>9.222265e+18</td>\n",
       "      <td>9.210531e+18</td>\n",
       "    </tr>\n",
       "  </tbody>\n",
       "</table>\n",
       "</div>"
      ],
      "text/plain": [
       "       event_timestamp       item_id   consumer_id\n",
       "count     7.231200e+04  7.231200e+04  7.231200e+04\n",
       "mean      1.470103e+09 -3.033423e+16  1.252026e+16\n",
       "std       7.258130e+06  5.344755e+18  5.022333e+18\n",
       "min       1.457964e+09 -9.222795e+18 -9.223122e+18\n",
       "25%       1.464876e+09 -4.726309e+18 -3.596627e+18\n",
       "50%       1.468343e+09  1.893099e+16 -1.088422e+17\n",
       "75%       1.474461e+09  4.441012e+18  3.766319e+18\n",
       "max       1.488310e+09  9.222265e+18  9.210531e+18"
      ]
     },
     "execution_count": 87,
     "metadata": {},
     "output_type": "execute_result"
    }
   ],
   "source": [
    "df_consumer.describe()"
   ]
  },
  {
   "cell_type": "code",
   "execution_count": 88,
   "metadata": {},
   "outputs": [
    {
     "data": {
      "text/plain": [
       "1895"
      ]
     },
     "execution_count": 88,
     "metadata": {},
     "output_type": "execute_result"
    }
   ],
   "source": [
    "n_consumer = df_consumer.consumer_id.nunique()\n",
    "n_consumer"
   ]
  },
  {
   "cell_type": "markdown",
   "metadata": {},
   "source": [
    "There are 1895 unique customer ids in the given dataset. "
   ]
  },
  {
   "cell_type": "code",
   "execution_count": 89,
   "metadata": {},
   "outputs": [
    {
     "data": {
      "text/plain": [
       "array(['content_watched', 'content_followed', 'content_saved',\n",
       "       'content_liked', 'content_commented_on'], dtype=object)"
      ]
     },
     "execution_count": 89,
     "metadata": {},
     "output_type": "execute_result"
    }
   ],
   "source": [
    "df_consumer.interaction_type.unique()"
   ]
  },
  {
   "cell_type": "markdown",
   "metadata": {},
   "source": [
    "Interaction_type has 'content_watched', 'content_followed', 'content_saved','content_liked', 'content_commented_on rating values, wherein the highest weightage is given to content_followed, followed by content_commented_on, content saved, content liked and content_watched. \n",
    "\n",
    "\n",
    "Next, we'll be joining the two datasets platform_content.csv and consumer_transanctions.csv on item_id:"
   ]
  },
  {
   "cell_type": "code",
   "execution_count": 90,
   "metadata": {},
   "outputs": [],
   "source": [
    "#Joining the two datasets on 'item_id'\n",
    "\n",
    "df=df_consumer.merge(df_platform,on='item_id')"
   ]
  },
  {
   "cell_type": "code",
   "execution_count": 91,
   "metadata": {},
   "outputs": [
    {
     "data": {
      "text/html": [
       "<div>\n",
       "<style scoped>\n",
       "    .dataframe tbody tr th:only-of-type {\n",
       "        vertical-align: middle;\n",
       "    }\n",
       "\n",
       "    .dataframe tbody tr th {\n",
       "        vertical-align: top;\n",
       "    }\n",
       "\n",
       "    .dataframe thead th {\n",
       "        text-align: right;\n",
       "    }\n",
       "</style>\n",
       "<table border=\"1\" class=\"dataframe\">\n",
       "  <thead>\n",
       "    <tr style=\"text-align: right;\">\n",
       "      <th></th>\n",
       "      <th>event_timestamp_x</th>\n",
       "      <th>interaction_type_x</th>\n",
       "      <th>item_id</th>\n",
       "      <th>consumer_id</th>\n",
       "      <th>consumer_session_id</th>\n",
       "      <th>consumer_device_info</th>\n",
       "      <th>consumer_location</th>\n",
       "      <th>country</th>\n",
       "      <th>event_timestamp_y</th>\n",
       "      <th>interaction_type_y</th>\n",
       "      <th>producer_id</th>\n",
       "      <th>producer_session_id</th>\n",
       "      <th>producer_device_info</th>\n",
       "      <th>producer_location</th>\n",
       "      <th>producer_country</th>\n",
       "      <th>item_type</th>\n",
       "      <th>item_url</th>\n",
       "      <th>title</th>\n",
       "      <th>text_description</th>\n",
       "      <th>language</th>\n",
       "    </tr>\n",
       "  </thead>\n",
       "  <tbody>\n",
       "    <tr>\n",
       "      <th>0</th>\n",
       "      <td>1465413032</td>\n",
       "      <td>content_watched</td>\n",
       "      <td>-3499919498720038879</td>\n",
       "      <td>-8845298781299428018</td>\n",
       "      <td>1264196770339959068</td>\n",
       "      <td>NaN</td>\n",
       "      <td>NaN</td>\n",
       "      <td>NaN</td>\n",
       "      <td>1465309434</td>\n",
       "      <td>content_present</td>\n",
       "      <td>-1032019229384696495</td>\n",
       "      <td>-7696592431575292648</td>\n",
       "      <td>NaN</td>\n",
       "      <td>NaN</td>\n",
       "      <td>NaN</td>\n",
       "      <td>HTML</td>\n",
       "      <td>http://techcrunch.com/2016/06/07/hiri/</td>\n",
       "      <td>Hiri wants to fix the workplace email problem</td>\n",
       "      <td>Hiri is the latest startup trying to fix email...</td>\n",
       "      <td>en</td>\n",
       "    </tr>\n",
       "    <tr>\n",
       "      <th>1</th>\n",
       "      <td>1465413046</td>\n",
       "      <td>content_watched</td>\n",
       "      <td>-3499919498720038879</td>\n",
       "      <td>-8845298781299428018</td>\n",
       "      <td>1264196770339959068</td>\n",
       "      <td>Mozilla/5.0 (Macintosh; Intel Mac OS X 10_11_5...</td>\n",
       "      <td>SP</td>\n",
       "      <td>BR</td>\n",
       "      <td>1465309434</td>\n",
       "      <td>content_present</td>\n",
       "      <td>-1032019229384696495</td>\n",
       "      <td>-7696592431575292648</td>\n",
       "      <td>NaN</td>\n",
       "      <td>NaN</td>\n",
       "      <td>NaN</td>\n",
       "      <td>HTML</td>\n",
       "      <td>http://techcrunch.com/2016/06/07/hiri/</td>\n",
       "      <td>Hiri wants to fix the workplace email problem</td>\n",
       "      <td>Hiri is the latest startup trying to fix email...</td>\n",
       "      <td>en</td>\n",
       "    </tr>\n",
       "    <tr>\n",
       "      <th>2</th>\n",
       "      <td>1465907360</td>\n",
       "      <td>content_watched</td>\n",
       "      <td>-3499919498720038879</td>\n",
       "      <td>-108842214936804958</td>\n",
       "      <td>-2163423831651021975</td>\n",
       "      <td>Mozilla/5.0 (Windows NT 6.3; WOW64) AppleWebKi...</td>\n",
       "      <td>SP</td>\n",
       "      <td>BR</td>\n",
       "      <td>1465309434</td>\n",
       "      <td>content_present</td>\n",
       "      <td>-1032019229384696495</td>\n",
       "      <td>-7696592431575292648</td>\n",
       "      <td>NaN</td>\n",
       "      <td>NaN</td>\n",
       "      <td>NaN</td>\n",
       "      <td>HTML</td>\n",
       "      <td>http://techcrunch.com/2016/06/07/hiri/</td>\n",
       "      <td>Hiri wants to fix the workplace email problem</td>\n",
       "      <td>Hiri is the latest startup trying to fix email...</td>\n",
       "      <td>en</td>\n",
       "    </tr>\n",
       "    <tr>\n",
       "      <th>3</th>\n",
       "      <td>1465583412</td>\n",
       "      <td>content_watched</td>\n",
       "      <td>-3499919498720038879</td>\n",
       "      <td>-1443636648652872475</td>\n",
       "      <td>-3976301106281818872</td>\n",
       "      <td>Mozilla/5.0 (X11; Linux x86_64) AppleWebKit/53...</td>\n",
       "      <td>SP</td>\n",
       "      <td>BR</td>\n",
       "      <td>1465309434</td>\n",
       "      <td>content_present</td>\n",
       "      <td>-1032019229384696495</td>\n",
       "      <td>-7696592431575292648</td>\n",
       "      <td>NaN</td>\n",
       "      <td>NaN</td>\n",
       "      <td>NaN</td>\n",
       "      <td>HTML</td>\n",
       "      <td>http://techcrunch.com/2016/06/07/hiri/</td>\n",
       "      <td>Hiri wants to fix the workplace email problem</td>\n",
       "      <td>Hiri is the latest startup trying to fix email...</td>\n",
       "      <td>en</td>\n",
       "    </tr>\n",
       "    <tr>\n",
       "      <th>4</th>\n",
       "      <td>1465582468</td>\n",
       "      <td>content_watched</td>\n",
       "      <td>-3499919498720038879</td>\n",
       "      <td>-1443636648652872475</td>\n",
       "      <td>-3976301106281818872</td>\n",
       "      <td>Mozilla/5.0 (X11; Linux x86_64) AppleWebKit/53...</td>\n",
       "      <td>SP</td>\n",
       "      <td>BR</td>\n",
       "      <td>1465309434</td>\n",
       "      <td>content_present</td>\n",
       "      <td>-1032019229384696495</td>\n",
       "      <td>-7696592431575292648</td>\n",
       "      <td>NaN</td>\n",
       "      <td>NaN</td>\n",
       "      <td>NaN</td>\n",
       "      <td>HTML</td>\n",
       "      <td>http://techcrunch.com/2016/06/07/hiri/</td>\n",
       "      <td>Hiri wants to fix the workplace email problem</td>\n",
       "      <td>Hiri is the latest startup trying to fix email...</td>\n",
       "      <td>en</td>\n",
       "    </tr>\n",
       "    <tr>\n",
       "      <th>...</th>\n",
       "      <td>...</td>\n",
       "      <td>...</td>\n",
       "      <td>...</td>\n",
       "      <td>...</td>\n",
       "      <td>...</td>\n",
       "      <td>...</td>\n",
       "      <td>...</td>\n",
       "      <td>...</td>\n",
       "      <td>...</td>\n",
       "      <td>...</td>\n",
       "      <td>...</td>\n",
       "      <td>...</td>\n",
       "      <td>...</td>\n",
       "      <td>...</td>\n",
       "      <td>...</td>\n",
       "      <td>...</td>\n",
       "      <td>...</td>\n",
       "      <td>...</td>\n",
       "      <td>...</td>\n",
       "      <td>...</td>\n",
       "    </tr>\n",
       "    <tr>\n",
       "      <th>72675</th>\n",
       "      <td>1482929120</td>\n",
       "      <td>content_watched</td>\n",
       "      <td>-7108012586837980940</td>\n",
       "      <td>-4028919343899978105</td>\n",
       "      <td>1103146045123415934</td>\n",
       "      <td>Mozilla/5.0 (Windows NT 10.0; Win64; x64) Appl...</td>\n",
       "      <td>SP</td>\n",
       "      <td>BR</td>\n",
       "      <td>1482929117</td>\n",
       "      <td>content_present</td>\n",
       "      <td>-4028919343899978105</td>\n",
       "      <td>1103146045123415934</td>\n",
       "      <td>Mozilla/5.0 (Windows NT 10.0; Win64; x64) Appl...</td>\n",
       "      <td>SP</td>\n",
       "      <td>BR</td>\n",
       "      <td>HTML</td>\n",
       "      <td>https://www.smashingmagazine.com/2016/12/digit...</td>\n",
       "      <td>The Ultimate Digital Clean-Up Checklist: Are Y...</td>\n",
       "      <td>With a couple of days left until New Year's Ev...</td>\n",
       "      <td>en</td>\n",
       "    </tr>\n",
       "    <tr>\n",
       "      <th>72676</th>\n",
       "      <td>1483616272</td>\n",
       "      <td>content_watched</td>\n",
       "      <td>7526977287801930517</td>\n",
       "      <td>-3643155458357242906</td>\n",
       "      <td>8781579964260038140</td>\n",
       "      <td>Mozilla/5.0 (Macintosh; Intel Mac OS X 10_12_1...</td>\n",
       "      <td>MG</td>\n",
       "      <td>BR</td>\n",
       "      <td>1483616270</td>\n",
       "      <td>content_present</td>\n",
       "      <td>-3643155458357242906</td>\n",
       "      <td>8781579964260038140</td>\n",
       "      <td>Mozilla/5.0 (Macintosh; Intel Mac OS X 10_12_1...</td>\n",
       "      <td>MG</td>\n",
       "      <td>BR</td>\n",
       "      <td>HTML</td>\n",
       "      <td>https://blog.medium.com/renewing-mediums-focus...</td>\n",
       "      <td>Renewing Medium's focus</td>\n",
       "      <td>We've decided to make some major changes at Me...</td>\n",
       "      <td>en</td>\n",
       "    </tr>\n",
       "    <tr>\n",
       "      <th>72677</th>\n",
       "      <td>1485429106</td>\n",
       "      <td>content_watched</td>\n",
       "      <td>-282629989972409543</td>\n",
       "      <td>5660542693104786364</td>\n",
       "      <td>-537882753893230818</td>\n",
       "      <td>Mozilla/5.0 (Windows NT 10.0; WOW64) AppleWebK...</td>\n",
       "      <td>SP</td>\n",
       "      <td>BR</td>\n",
       "      <td>1485429102</td>\n",
       "      <td>content_present</td>\n",
       "      <td>5660542693104786364</td>\n",
       "      <td>-537882753893230818</td>\n",
       "      <td>Mozilla/5.0 (Windows NT 10.0; WOW64) AppleWebK...</td>\n",
       "      <td>SP</td>\n",
       "      <td>BR</td>\n",
       "      <td>HTML</td>\n",
       "      <td>http://www.valor.com.br/financas/4847178/santa...</td>\n",
       "      <td>Santander Brasil gera 21% do resultado da matr...</td>\n",
       "      <td>SÃO PAULO - As operações do Santander no Brasi...</td>\n",
       "      <td>pt</td>\n",
       "    </tr>\n",
       "    <tr>\n",
       "      <th>72678</th>\n",
       "      <td>1485429066</td>\n",
       "      <td>content_watched</td>\n",
       "      <td>-6468782714472551646</td>\n",
       "      <td>5660542693104786364</td>\n",
       "      <td>-537882753893230818</td>\n",
       "      <td>Mozilla/5.0 (Windows NT 10.0; WOW64) AppleWebK...</td>\n",
       "      <td>SP</td>\n",
       "      <td>BR</td>\n",
       "      <td>1485429024</td>\n",
       "      <td>content_present</td>\n",
       "      <td>5660542693104786364</td>\n",
       "      <td>-537882753893230818</td>\n",
       "      <td>Mozilla/5.0 (Windows NT 10.0; WOW64) AppleWebK...</td>\n",
       "      <td>SP</td>\n",
       "      <td>BR</td>\n",
       "      <td>HTML</td>\n",
       "      <td>http://www.valor.com.br/financas/4848194/santa...</td>\n",
       "      <td>Santander Brasil tem lucro gerencial de R$ 1,9...</td>\n",
       "      <td>SÃO PAULO - O Santander Brasil obteve lucro lí...</td>\n",
       "      <td>pt</td>\n",
       "    </tr>\n",
       "    <tr>\n",
       "      <th>72679</th>\n",
       "      <td>1485868866</td>\n",
       "      <td>content_watched</td>\n",
       "      <td>-9040419159428373932</td>\n",
       "      <td>-7496361692498935601</td>\n",
       "      <td>-1030459773185003253</td>\n",
       "      <td>Mozilla/5.0 (Windows NT 10.0; Win64; x64) Appl...</td>\n",
       "      <td>SP</td>\n",
       "      <td>BR</td>\n",
       "      <td>1485868862</td>\n",
       "      <td>content_present</td>\n",
       "      <td>-7496361692498935601</td>\n",
       "      <td>-1030459773185003253</td>\n",
       "      <td>Mozilla/5.0 (Windows NT 10.0; Win64; x64) Appl...</td>\n",
       "      <td>SP</td>\n",
       "      <td>BR</td>\n",
       "      <td>HTML</td>\n",
       "      <td>http://www.inovacaotecnologica.com.br/noticias...</td>\n",
       "      <td>Depois da Inteligência Artificial, vem aí a In...</td>\n",
       "      <td>Hoje estamos publicando dois artigos com difer...</td>\n",
       "      <td>pt</td>\n",
       "    </tr>\n",
       "  </tbody>\n",
       "</table>\n",
       "<p>72680 rows × 20 columns</p>\n",
       "</div>"
      ],
      "text/plain": [
       "       event_timestamp_x interaction_type_x              item_id  \\\n",
       "0             1465413032    content_watched -3499919498720038879   \n",
       "1             1465413046    content_watched -3499919498720038879   \n",
       "2             1465907360    content_watched -3499919498720038879   \n",
       "3             1465583412    content_watched -3499919498720038879   \n",
       "4             1465582468    content_watched -3499919498720038879   \n",
       "...                  ...                ...                  ...   \n",
       "72675         1482929120    content_watched -7108012586837980940   \n",
       "72676         1483616272    content_watched  7526977287801930517   \n",
       "72677         1485429106    content_watched  -282629989972409543   \n",
       "72678         1485429066    content_watched -6468782714472551646   \n",
       "72679         1485868866    content_watched -9040419159428373932   \n",
       "\n",
       "               consumer_id   consumer_session_id  \\\n",
       "0     -8845298781299428018   1264196770339959068   \n",
       "1     -8845298781299428018   1264196770339959068   \n",
       "2      -108842214936804958  -2163423831651021975   \n",
       "3     -1443636648652872475  -3976301106281818872   \n",
       "4     -1443636648652872475  -3976301106281818872   \n",
       "...                    ...                   ...   \n",
       "72675 -4028919343899978105   1103146045123415934   \n",
       "72676 -3643155458357242906   8781579964260038140   \n",
       "72677  5660542693104786364   -537882753893230818   \n",
       "72678  5660542693104786364   -537882753893230818   \n",
       "72679 -7496361692498935601  -1030459773185003253   \n",
       "\n",
       "                                    consumer_device_info consumer_location  \\\n",
       "0                                                    NaN               NaN   \n",
       "1      Mozilla/5.0 (Macintosh; Intel Mac OS X 10_11_5...                SP   \n",
       "2      Mozilla/5.0 (Windows NT 6.3; WOW64) AppleWebKi...                SP   \n",
       "3      Mozilla/5.0 (X11; Linux x86_64) AppleWebKit/53...                SP   \n",
       "4      Mozilla/5.0 (X11; Linux x86_64) AppleWebKit/53...                SP   \n",
       "...                                                  ...               ...   \n",
       "72675  Mozilla/5.0 (Windows NT 10.0; Win64; x64) Appl...                SP   \n",
       "72676  Mozilla/5.0 (Macintosh; Intel Mac OS X 10_12_1...                MG   \n",
       "72677  Mozilla/5.0 (Windows NT 10.0; WOW64) AppleWebK...                SP   \n",
       "72678  Mozilla/5.0 (Windows NT 10.0; WOW64) AppleWebK...                SP   \n",
       "72679  Mozilla/5.0 (Windows NT 10.0; Win64; x64) Appl...                SP   \n",
       "\n",
       "      country  event_timestamp_y interaction_type_y          producer_id  \\\n",
       "0         NaN         1465309434    content_present -1032019229384696495   \n",
       "1          BR         1465309434    content_present -1032019229384696495   \n",
       "2          BR         1465309434    content_present -1032019229384696495   \n",
       "3          BR         1465309434    content_present -1032019229384696495   \n",
       "4          BR         1465309434    content_present -1032019229384696495   \n",
       "...       ...                ...                ...                  ...   \n",
       "72675      BR         1482929117    content_present -4028919343899978105   \n",
       "72676      BR         1483616270    content_present -3643155458357242906   \n",
       "72677      BR         1485429102    content_present  5660542693104786364   \n",
       "72678      BR         1485429024    content_present  5660542693104786364   \n",
       "72679      BR         1485868862    content_present -7496361692498935601   \n",
       "\n",
       "       producer_session_id                               producer_device_info  \\\n",
       "0     -7696592431575292648                                                NaN   \n",
       "1     -7696592431575292648                                                NaN   \n",
       "2     -7696592431575292648                                                NaN   \n",
       "3     -7696592431575292648                                                NaN   \n",
       "4     -7696592431575292648                                                NaN   \n",
       "...                    ...                                                ...   \n",
       "72675  1103146045123415934  Mozilla/5.0 (Windows NT 10.0; Win64; x64) Appl...   \n",
       "72676  8781579964260038140  Mozilla/5.0 (Macintosh; Intel Mac OS X 10_12_1...   \n",
       "72677  -537882753893230818  Mozilla/5.0 (Windows NT 10.0; WOW64) AppleWebK...   \n",
       "72678  -537882753893230818  Mozilla/5.0 (Windows NT 10.0; WOW64) AppleWebK...   \n",
       "72679 -1030459773185003253  Mozilla/5.0 (Windows NT 10.0; Win64; x64) Appl...   \n",
       "\n",
       "      producer_location producer_country item_type  \\\n",
       "0                   NaN              NaN      HTML   \n",
       "1                   NaN              NaN      HTML   \n",
       "2                   NaN              NaN      HTML   \n",
       "3                   NaN              NaN      HTML   \n",
       "4                   NaN              NaN      HTML   \n",
       "...                 ...              ...       ...   \n",
       "72675                SP               BR      HTML   \n",
       "72676                MG               BR      HTML   \n",
       "72677                SP               BR      HTML   \n",
       "72678                SP               BR      HTML   \n",
       "72679                SP               BR      HTML   \n",
       "\n",
       "                                                item_url  \\\n",
       "0                 http://techcrunch.com/2016/06/07/hiri/   \n",
       "1                 http://techcrunch.com/2016/06/07/hiri/   \n",
       "2                 http://techcrunch.com/2016/06/07/hiri/   \n",
       "3                 http://techcrunch.com/2016/06/07/hiri/   \n",
       "4                 http://techcrunch.com/2016/06/07/hiri/   \n",
       "...                                                  ...   \n",
       "72675  https://www.smashingmagazine.com/2016/12/digit...   \n",
       "72676  https://blog.medium.com/renewing-mediums-focus...   \n",
       "72677  http://www.valor.com.br/financas/4847178/santa...   \n",
       "72678  http://www.valor.com.br/financas/4848194/santa...   \n",
       "72679  http://www.inovacaotecnologica.com.br/noticias...   \n",
       "\n",
       "                                                   title  \\\n",
       "0          Hiri wants to fix the workplace email problem   \n",
       "1          Hiri wants to fix the workplace email problem   \n",
       "2          Hiri wants to fix the workplace email problem   \n",
       "3          Hiri wants to fix the workplace email problem   \n",
       "4          Hiri wants to fix the workplace email problem   \n",
       "...                                                  ...   \n",
       "72675  The Ultimate Digital Clean-Up Checklist: Are Y...   \n",
       "72676                            Renewing Medium's focus   \n",
       "72677  Santander Brasil gera 21% do resultado da matr...   \n",
       "72678  Santander Brasil tem lucro gerencial de R$ 1,9...   \n",
       "72679  Depois da Inteligência Artificial, vem aí a In...   \n",
       "\n",
       "                                        text_description language  \n",
       "0      Hiri is the latest startup trying to fix email...       en  \n",
       "1      Hiri is the latest startup trying to fix email...       en  \n",
       "2      Hiri is the latest startup trying to fix email...       en  \n",
       "3      Hiri is the latest startup trying to fix email...       en  \n",
       "4      Hiri is the latest startup trying to fix email...       en  \n",
       "...                                                  ...      ...  \n",
       "72675  With a couple of days left until New Year's Ev...       en  \n",
       "72676  We've decided to make some major changes at Me...       en  \n",
       "72677  SÃO PAULO - As operações do Santander no Brasi...       pt  \n",
       "72678  SÃO PAULO - O Santander Brasil obteve lucro lí...       pt  \n",
       "72679  Hoje estamos publicando dois artigos com difer...       pt  \n",
       "\n",
       "[72680 rows x 20 columns]"
      ]
     },
     "execution_count": 91,
     "metadata": {},
     "output_type": "execute_result"
    }
   ],
   "source": [
    "df"
   ]
  },
  {
   "cell_type": "code",
   "execution_count": 92,
   "metadata": {},
   "outputs": [
    {
     "data": {
      "text/plain": [
       "(72680, 20)"
      ]
     },
     "execution_count": 92,
     "metadata": {},
     "output_type": "execute_result"
    }
   ],
   "source": [
    "df.shape"
   ]
  },
  {
   "cell_type": "markdown",
   "metadata": {},
   "source": [
    "Note: We have to ensure that the system does not recommend any news article that has been pulled out from the app or has already been seen by the user. So We'll be dropping out all the articles that have been already pulled out or already been seen by the user."
   ]
  },
  {
   "cell_type": "code",
   "execution_count": 93,
   "metadata": {},
   "outputs": [],
   "source": [
    "#Dropping already pulled out articles\n",
    "\n",
    "df=df[df.interaction_type_y=='content_present']\n",
    "df.drop('interaction_type_y',axis=1,inplace=True)"
   ]
  },
  {
   "cell_type": "markdown",
   "metadata": {},
   "source": [
    "#### User-based collaborative recommendation"
   ]
  },
  {
   "cell_type": "markdown",
   "metadata": {},
   "source": [
    "In order to recommend new top 10 relevant articles to a user at the start of the day we'll be considering the following factors:\n",
    "\n",
    "- Recency: Only Recent articles should be recommended\n",
    "- Region: The article recommended should be within the same region (Same country or state)\n",
    "- Content interaction: Based on user's interaction with the articles i.e. watched, liked, followed, downloaded - Most popular"
   ]
  },
  {
   "cell_type": "markdown",
   "metadata": {},
   "source": [
    "#### Recency\n",
    "\n",
    "Considering the factor - How recent the artciles are, so that only Recent articles are recommended."
   ]
  },
  {
   "cell_type": "code",
   "execution_count": 94,
   "metadata": {},
   "outputs": [
    {
     "data": {
      "text/plain": [
       "<AxesSubplot:xlabel='days', ylabel='Count'>"
      ]
     },
     "execution_count": 94,
     "metadata": {},
     "output_type": "execute_result"
    },
    {
     "data": {
      "image/png": "[encoded data removed]",
      "text/plain": [
       "<Figure size 432x288 with 1 Axes>"
      ]
     },
     "metadata": {
      "needs_background": "light"
     },
     "output_type": "display_data"
    }
   ],
   "source": [
    "#plotting histogram for timestamp for how recent the article is\n",
    "\n",
    "df['days']=pd.to_datetime(df.event_timestamp_x,unit='s').dt.date\n",
    "sns.histplot(x= df['days'], bins = 50)"
   ]
  },
  {
   "cell_type": "markdown",
   "metadata": {},
   "source": [
    "#### Interaction\n",
    "\n",
    "Now, Based on user's interaction with the articles i.e. watched, liked, followed, downloaded - Most popular"
   ]
  },
  {
   "cell_type": "code",
   "execution_count": 95,
   "metadata": {
    "colab": {
     "base_uri": "https://localhost:8080/",
     "height": 283
    },
    "id": "RQSW9bCNqZuM",
    "outputId": "c5c85acd-105d-4a6e-da6a-42da3b7290bc"
   },
   "outputs": [
    {
     "data": {
      "text/plain": [
       "<AxesSubplot:>"
      ]
     },
     "execution_count": 95,
     "metadata": {},
     "output_type": "execute_result"
    },
    {
     "data": {
      "image/png": "[encoded data removed]",
      "text/plain": [
       "<Figure size 432x288 with 1 Axes>"
      ]
     },
     "metadata": {
      "needs_background": "light"
     },
     "output_type": "display_data"
    }
   ],
   "source": [
    "df_consumer['interaction_type'].value_counts().plot(kind='barh')"
   ]
  },
  {
   "cell_type": "code",
   "execution_count": 96,
   "metadata": {
    "colab": {
     "base_uri": "https://localhost:8080/",
     "height": 283
    },
    "id": "s4UzOCh2sFbx",
    "outputId": "0acbd4bd-2e01-402c-e186-670ba76195c5"
   },
   "outputs": [
    {
     "data": {
      "text/plain": [
       "<AxesSubplot:>"
      ]
     },
     "execution_count": 96,
     "metadata": {},
     "output_type": "execute_result"
    },
    {
     "data": {
      "image/png": "[encoded data removed]",
      "text/plain": [
       "<Figure size 432x288 with 1 Axes>"
      ]
     },
     "metadata": {
      "needs_background": "light"
     },
     "output_type": "display_data"
    }
   ],
   "source": [
    "# Popular items\n",
    "\n",
    "df_consumer['item_id'].value_counts()[:10].plot(kind='bar')"
   ]
  },
  {
   "cell_type": "markdown",
   "metadata": {},
   "source": [
    "#### Region"
   ]
  },
  {
   "cell_type": "code",
   "execution_count": 97,
   "metadata": {},
   "outputs": [
    {
     "data": {
      "text/plain": [
       "Index(['SP', 'MG', 'NJ', 'NY', 'ON', 'GA', 'FL', 'IL', 'RJ', 'TX'], dtype='object')"
      ]
     },
     "execution_count": 97,
     "metadata": {},
     "output_type": "execute_result"
    }
   ],
   "source": [
    "# Top regions of the product\n",
    "\n",
    "df.producer_location.value_counts().index[:10]"
   ]
  },
  {
   "cell_type": "code",
   "execution_count": 136,
   "metadata": {},
   "outputs": [],
   "source": [
    "def preprocess(text):\n",
    "    \n",
    "   text = text.lower()\n",
    "   doc = word_tokenize(text)\n",
    "   doc = [word for word in doc if word not in stop_words]\n",
    "   doc = [word for word in doc if word.isalpha()]\n",
    "    \n",
    "   return doc"
   ]
  },
  {
   "cell_type": "markdown",
   "metadata": {},
   "source": [
    "These are the top 10 Regions where we have the most interactive. Thus the regions above can be used in our reconmmended system. "
   ]
  },
  {
   "cell_type": "markdown",
   "metadata": {},
   "source": [
    "### Proposed Recommendation Engine. \n",
    "\n",
    "#### Ten reconmmend products/articles includes - Four recently popular articles + Three all time popular + Three region specific popular articles  \n",
    "\n",
    "- Note: We need to ensure that the system does not recommend any news article that has been pulled out from the app or has already been seen by the user. Thus, all the articles are that are \"pulled out\" or pre-viewed articles by the user that have already been seen will excluded. Soo, all the articles that are recommended will be new to the user"
   ]
  },
  {
   "cell_type": "code",
   "execution_count": 98,
   "metadata": {},
   "outputs": [
    {
     "data": {
      "text/plain": [
       "Index(['event_timestamp_x', 'interaction_type_x', 'item_id', 'consumer_id',\n",
       "       'consumer_session_id', 'consumer_device_info', 'consumer_location',\n",
       "       'country', 'event_timestamp_y', 'producer_id', 'producer_session_id',\n",
       "       'producer_device_info', 'producer_location', 'producer_country',\n",
       "       'item_type', 'item_url', 'title', 'text_description', 'language',\n",
       "       'days'],\n",
       "      dtype='object')"
      ]
     },
     "execution_count": 98,
     "metadata": {},
     "output_type": "execute_result"
    }
   ],
   "source": [
    "df.columns"
   ]
  },
  {
   "cell_type": "code",
   "execution_count": 99,
   "metadata": {},
   "outputs": [],
   "source": [
    "def recommed_system1(cons_id):\n",
    "    '''\n",
    "    This function takes consumer ID as input and returns 10 recommended products as explained above.\n",
    "    \n",
    "    cons_id : Consumer ID\n",
    "    return : List of 10 products\n",
    "    \n",
    "    '''\n",
    "    # Top 4 recently popular products\n",
    "    \n",
    "    dftmp=df[df.consumer_id!=cons_id]\n",
    "    dftmp=dftmp[dftmp.days>=datetime(2017,1,1).date()]\n",
    "    dftmp=dftmp[dftmp.interaction_type_x=='content_watched']\n",
    "   \n",
    "    recent=list(dftmp['item_id'].value_counts().index[:4])\n",
    "    \n",
    "    #Top 3 overall popular\n",
    "    \n",
    "    dftmp=df[df.consumer_id!=cons_id]\n",
    "    dftmp=dftmp[dftmp.interaction_type_x=='content_watched']\n",
    "    dftmp=dftmp[~dftmp.item_id.isin(recent)] \n",
    "    #it shouldn't be from previously included items\n",
    "    \n",
    "    overall=list(dftmp['item_id'].value_counts().index[:3])\n",
    "    \n",
    "    # Top 3 in that region - \n",
    "    \n",
    "    k=df[df.consumer_id==cons_id].producer_location.value_counts().index[0]\n",
    "    \n",
    "    if k in ['SP', 'MG', 'NJ', 'NY', 'ON', 'GA', 'FL', 'IL', 'RJ', 'TX']:\n",
    "        dftmp=df[df.consumer_id!=cons_id]\n",
    "        dftmp=dftmp[(dftmp.interaction_type_x=='content_watched')&(dftmp.producer_location==k)]\n",
    "        dftmp=dftmp[~dftmp.item_id.isin(recent+overall)]\n",
    "        region=list(dftmp['item_id'].value_counts().index[:3])\n",
    "    else:\n",
    "        dftmp=df[df.consumer_id!=cons_id]\n",
    "        dftmp=dftmp[dftmp.interaction_type_x=='content_watched']\n",
    "        dftmp=dftmp[~dftmp.item_id.isin(recent+overall)]\n",
    "        region=list(dftmp['item_id'].value_counts().index[:3])\n",
    "        \n",
    "    return df[df.item_id.isin(recent+overall+region)][['item_id','title']].reset_index(drop=True).drop_duplicates()"
   ]
  },
  {
   "cell_type": "code",
   "execution_count": 100,
   "metadata": {},
   "outputs": [
    {
     "data": {
      "text/html": [
       "<div>\n",
       "<style scoped>\n",
       "    .dataframe tbody tr th:only-of-type {\n",
       "        vertical-align: middle;\n",
       "    }\n",
       "\n",
       "    .dataframe tbody tr th {\n",
       "        vertical-align: top;\n",
       "    }\n",
       "\n",
       "    .dataframe thead th {\n",
       "        text-align: right;\n",
       "    }\n",
       "</style>\n",
       "<table border=\"1\" class=\"dataframe\">\n",
       "  <thead>\n",
       "    <tr style=\"text-align: right;\">\n",
       "      <th></th>\n",
       "      <th>item_id</th>\n",
       "      <th>title</th>\n",
       "    </tr>\n",
       "  </thead>\n",
       "  <tbody>\n",
       "    <tr>\n",
       "      <th>0</th>\n",
       "      <td>8657408509986329668</td>\n",
       "      <td>Pull request first - Practical Blend</td>\n",
       "    </tr>\n",
       "    <tr>\n",
       "      <th>294</th>\n",
       "      <td>-133139342397538859</td>\n",
       "      <td>Novo workaholic trabalha, pratica esportes e t...</td>\n",
       "    </tr>\n",
       "    <tr>\n",
       "      <th>609</th>\n",
       "      <td>-6783772548752091658</td>\n",
       "      <td>Livro: Retrospectivas Divertidas</td>\n",
       "    </tr>\n",
       "    <tr>\n",
       "      <th>903</th>\n",
       "      <td>5854206600849997966</td>\n",
       "      <td>The hardest thing in computer science</td>\n",
       "    </tr>\n",
       "    <tr>\n",
       "      <th>1042</th>\n",
       "      <td>-4333957157636611418</td>\n",
       "      <td>Why Programmers Want Private Offices</td>\n",
       "    </tr>\n",
       "    <tr>\n",
       "      <th>1234</th>\n",
       "      <td>3660989387512978561</td>\n",
       "      <td>Discutindo Devops na Prática</td>\n",
       "    </tr>\n",
       "    <tr>\n",
       "      <th>1377</th>\n",
       "      <td>-7113155163062752691</td>\n",
       "      <td>Arquitetura de Microserviços habilitando APIs ...</td>\n",
       "    </tr>\n",
       "    <tr>\n",
       "      <th>1508</th>\n",
       "      <td>-14569272361926584</td>\n",
       "      <td>Java 8 Streams - A Deeper Approach About Perfo...</td>\n",
       "    </tr>\n",
       "    <tr>\n",
       "      <th>1635</th>\n",
       "      <td>-4029704725707465084</td>\n",
       "      <td>Former Google career coach shares a visual tri...</td>\n",
       "    </tr>\n",
       "    <tr>\n",
       "      <th>2068</th>\n",
       "      <td>1469580151036142903</td>\n",
       "      <td>Don't document your code. Code your documentat...</td>\n",
       "    </tr>\n",
       "  </tbody>\n",
       "</table>\n",
       "</div>"
      ],
      "text/plain": [
       "                  item_id                                              title\n",
       "0     8657408509986329668               Pull request first - Practical Blend\n",
       "294   -133139342397538859  Novo workaholic trabalha, pratica esportes e t...\n",
       "609  -6783772548752091658                   Livro: Retrospectivas Divertidas\n",
       "903   5854206600849997966              The hardest thing in computer science\n",
       "1042 -4333957157636611418               Why Programmers Want Private Offices\n",
       "1234  3660989387512978561                       Discutindo Devops na Prática\n",
       "1377 -7113155163062752691  Arquitetura de Microserviços habilitando APIs ...\n",
       "1508   -14569272361926584  Java 8 Streams - A Deeper Approach About Perfo...\n",
       "1635 -4029704725707465084  Former Google career coach shares a visual tri...\n",
       "2068  1469580151036142903  Don't document your code. Code your documentat..."
      ]
     },
     "execution_count": 100,
     "metadata": {},
     "output_type": "execute_result"
    }
   ],
   "source": [
    "# Test the engine\n",
    "recommed_system1(-1032019229384696495)"
   ]
  },
  {
   "cell_type": "markdown",
   "metadata": {},
   "source": [
    "So for a particular user, there is an id associated i.e. consumer_id. Thus, on providing a customer_id (for example: -1032019229384696495) the system recommends the top 10 articles that are most relevant to the user/ customer_id. "
   ]
  },
  {
   "cell_type": "markdown",
   "metadata": {
    "id": "q9Zq09x47-MD"
   },
   "source": [
    "### Content based recommendation system. \n"
   ]
  },
  {
   "cell_type": "markdown",
   "metadata": {},
   "source": [
    "\n",
    "Requirements: \n",
    "Only the articles that are written in the English language must be considered for content-based recommendations. \n",
    "The system should not recommend any news article that has been pulled out from the app or has already been seen by the user.\n",
    "\n",
    "The final generated list must contain the names of the recommended articles, along with their IDs."
   ]
  },
  {
   "cell_type": "markdown",
   "metadata": {},
   "source": [
    "### Model 1 - Cosine similarity"
   ]
  },
  {
   "cell_type": "code",
   "execution_count": 101,
   "metadata": {},
   "outputs": [],
   "source": [
    "def preprocess_sentences(text):\n",
    "    '''\n",
    "    This function takes the text sentence input and preprocess it to make compatible to NLP models being use\n",
    "    \n",
    "    text: text sentence\n",
    "    \n",
    "    return : processed sentence\n",
    "    '''\n",
    "    text = text.lower()\n",
    "    temp_sent =[]\n",
    "    words = nltk.word_tokenize(text)\n",
    "    tags = nltk.pos_tag(words)\n",
    "    for i, word in enumerate(words):\n",
    "        if tags[i][1] in VERB_CODES:\n",
    "            lemmatized = lemmatizer.lemmatize(word, 'v')\n",
    "        else:\n",
    "            lemmatized = lemmatizer.lemmatize(word)\n",
    "        if lemmatized not in stop_words and lemmatized.isalpha():\n",
    "            temp_sent.append(lemmatized)\n",
    "\n",
    "    finalsent = ' '.join(temp_sent)\n",
    "    finalsent = finalsent.replace(\"n't\", \" not\")\n",
    "    finalsent = finalsent.replace(\"'m\", \" am\")\n",
    "    finalsent = finalsent.replace(\"'s\", \" is\")\n",
    "    finalsent = finalsent.replace(\"'re\", \" are\")\n",
    "    finalsent = finalsent.replace(\"'ll\", \" will\")\n",
    "    finalsent = finalsent.replace(\"'ve\", \" have\")\n",
    "    finalsent = finalsent.replace(\"'d\", \" would\")\n",
    "    return finalsent"
   ]
  },
  {
   "cell_type": "code",
   "execution_count": 102,
   "metadata": {},
   "outputs": [],
   "source": [
    "pc_present=df_platform[df_platform[\"interaction_type\"]==\"content_present\"]\n",
    "\n",
    "pc_present[\"all_text\"]=pc_present[\"title\"]+pc_present[\"text_description\"]\n",
    "\n",
    "pc_present.drop([\"producer_device_info\", \"producer_location\", \"producer_country\" ], axis=1, inplace=True)\n",
    "\n",
    "pc_present.drop([\"event_timestamp\", \"producer_id\",\n",
    "                 \"producer_session_id\", \"item_url\", \"interaction_type\"], axis=1, inplace=True)"
   ]
  },
  {
   "cell_type": "code",
   "execution_count": 103,
   "metadata": {},
   "outputs": [],
   "source": [
    "pc_present[\"all_text_processed\"]=pc_present[\"all_text\"].apply(preprocess_sentences)"
   ]
  },
  {
   "cell_type": "code",
   "execution_count": 104,
   "metadata": {},
   "outputs": [
    {
     "data": {
      "text/plain": [
       "Index(['item_id', 'item_type', 'title', 'text_description', 'language',\n",
       "       'all_text', 'all_text_processed'],\n",
       "      dtype='object')"
      ]
     },
     "execution_count": 104,
     "metadata": {},
     "output_type": "execute_result"
    }
   ],
   "source": [
    "pc_present.columns"
   ]
  },
  {
   "cell_type": "code",
   "execution_count": 105,
   "metadata": {},
   "outputs": [
    {
     "data": {
      "text/html": [
       "<div>\n",
       "<style scoped>\n",
       "    .dataframe tbody tr th:only-of-type {\n",
       "        vertical-align: middle;\n",
       "    }\n",
       "\n",
       "    .dataframe tbody tr th {\n",
       "        vertical-align: top;\n",
       "    }\n",
       "\n",
       "    .dataframe thead th {\n",
       "        text-align: right;\n",
       "    }\n",
       "</style>\n",
       "<table border=\"1\" class=\"dataframe\">\n",
       "  <thead>\n",
       "    <tr style=\"text-align: right;\">\n",
       "      <th></th>\n",
       "      <th>item_type</th>\n",
       "      <th>title</th>\n",
       "      <th>text_description</th>\n",
       "      <th>language</th>\n",
       "      <th>all_text</th>\n",
       "      <th>all_text_processed</th>\n",
       "    </tr>\n",
       "    <tr>\n",
       "      <th>item_id</th>\n",
       "      <th></th>\n",
       "      <th></th>\n",
       "      <th></th>\n",
       "      <th></th>\n",
       "      <th></th>\n",
       "      <th></th>\n",
       "    </tr>\n",
       "  </thead>\n",
       "  <tbody>\n",
       "    <tr>\n",
       "      <th>-4110354420726924665</th>\n",
       "      <td>HTML</td>\n",
       "      <td>Ethereum, a Virtual Currency, Enables Transact...</td>\n",
       "      <td>All of this work is still very early. The firs...</td>\n",
       "      <td>en</td>\n",
       "      <td>Ethereum, a Virtual Currency, Enables Transact...</td>\n",
       "      <td>ethereum virtual currency enable transaction r...</td>\n",
       "    </tr>\n",
       "    <tr>\n",
       "      <th>-7292285110016212249</th>\n",
       "      <td>HTML</td>\n",
       "      <td>Bitcoin Future: When GBPcoin of Branson Wins O...</td>\n",
       "      <td>The alarm clock wakes me at 8:00 with stream o...</td>\n",
       "      <td>en</td>\n",
       "      <td>Bitcoin Future: When GBPcoin of Branson Wins O...</td>\n",
       "      <td>bitcoin future gbpcoin branson win usdcoin tru...</td>\n",
       "    </tr>\n",
       "    <tr>\n",
       "      <th>-6151852268067518688</th>\n",
       "      <td>HTML</td>\n",
       "      <td>Google Data Center 360° Tour</td>\n",
       "      <td>We're excited to share the Google Data Center ...</td>\n",
       "      <td>en</td>\n",
       "      <td>Google Data Center 360° TourWe're excited to s...</td>\n",
       "      <td>google data center tourwe excite share google ...</td>\n",
       "    </tr>\n",
       "    <tr>\n",
       "      <th>2448026894306402386</th>\n",
       "      <td>HTML</td>\n",
       "      <td>IBM Wants to \"Evolve the Internet\" With Blockc...</td>\n",
       "      <td>The Aite Group projects the blockchain market ...</td>\n",
       "      <td>en</td>\n",
       "      <td>IBM Wants to \"Evolve the Internet\" With Blockc...</td>\n",
       "      <td>ibm want evolve internet blockchain technology...</td>\n",
       "    </tr>\n",
       "    <tr>\n",
       "      <th>-2826566343807132236</th>\n",
       "      <td>HTML</td>\n",
       "      <td>IEEE to Talk Blockchain at Cloud Computing Oxf...</td>\n",
       "      <td>One of the largest and oldest organizations fo...</td>\n",
       "      <td>en</td>\n",
       "      <td>IEEE to Talk Blockchain at Cloud Computing Oxf...</td>\n",
       "      <td>ieee talk blockchain cloud compute coindeskone...</td>\n",
       "    </tr>\n",
       "  </tbody>\n",
       "</table>\n",
       "</div>"
      ],
      "text/plain": [
       "                     item_type  \\\n",
       "item_id                          \n",
       "-4110354420726924665      HTML   \n",
       "-7292285110016212249      HTML   \n",
       "-6151852268067518688      HTML   \n",
       " 2448026894306402386      HTML   \n",
       "-2826566343807132236      HTML   \n",
       "\n",
       "                                                                  title  \\\n",
       "item_id                                                                   \n",
       "-4110354420726924665  Ethereum, a Virtual Currency, Enables Transact...   \n",
       "-7292285110016212249  Bitcoin Future: When GBPcoin of Branson Wins O...   \n",
       "-6151852268067518688                       Google Data Center 360° Tour   \n",
       " 2448026894306402386  IBM Wants to \"Evolve the Internet\" With Blockc...   \n",
       "-2826566343807132236  IEEE to Talk Blockchain at Cloud Computing Oxf...   \n",
       "\n",
       "                                                       text_description  \\\n",
       "item_id                                                                   \n",
       "-4110354420726924665  All of this work is still very early. The firs...   \n",
       "-7292285110016212249  The alarm clock wakes me at 8:00 with stream o...   \n",
       "-6151852268067518688  We're excited to share the Google Data Center ...   \n",
       " 2448026894306402386  The Aite Group projects the blockchain market ...   \n",
       "-2826566343807132236  One of the largest and oldest organizations fo...   \n",
       "\n",
       "                     language  \\\n",
       "item_id                         \n",
       "-4110354420726924665       en   \n",
       "-7292285110016212249       en   \n",
       "-6151852268067518688       en   \n",
       " 2448026894306402386       en   \n",
       "-2826566343807132236       en   \n",
       "\n",
       "                                                               all_text  \\\n",
       "item_id                                                                   \n",
       "-4110354420726924665  Ethereum, a Virtual Currency, Enables Transact...   \n",
       "-7292285110016212249  Bitcoin Future: When GBPcoin of Branson Wins O...   \n",
       "-6151852268067518688  Google Data Center 360° TourWe're excited to s...   \n",
       " 2448026894306402386  IBM Wants to \"Evolve the Internet\" With Blockc...   \n",
       "-2826566343807132236  IEEE to Talk Blockchain at Cloud Computing Oxf...   \n",
       "\n",
       "                                                     all_text_processed  \n",
       "item_id                                                                  \n",
       "-4110354420726924665  ethereum virtual currency enable transaction r...  \n",
       "-7292285110016212249  bitcoin future gbpcoin branson win usdcoin tru...  \n",
       "-6151852268067518688  google data center tourwe excite share google ...  \n",
       " 2448026894306402386  ibm want evolve internet blockchain technology...  \n",
       "-2826566343807132236  ieee talk blockchain cloud compute coindeskone...  "
      ]
     },
     "execution_count": 105,
     "metadata": {},
     "output_type": "execute_result"
    }
   ],
   "source": [
    "# Vectorizing pre-processed movie plots using TF-IDF\n",
    "\n",
    "tfidfvec = TfidfVectorizer()\n",
    "tfidf_movie = tfidfvec.fit_transform((pc_present[\"all_text_processed\"]))\n",
    "cos_sim = cosine_similarity(tfidf_movie, tfidf_movie)\n",
    "\n",
    "pc_present = pc_present.set_index('item_id') \n",
    "\n",
    "pc_present.head()"
   ]
  },
  {
   "cell_type": "code",
   "execution_count": 106,
   "metadata": {},
   "outputs": [],
   "source": [
    "# Storing indices of the data\n",
    "\n",
    "indices = pd.Series(pc_present.index)"
   ]
  },
  {
   "cell_type": "code",
   "execution_count": 107,
   "metadata": {},
   "outputs": [],
   "source": [
    "def recommendations(id, cosine_sim = cos_sim):\n",
    "    \n",
    "    recommended_articles = []\n",
    "    clicked_article=pc_present.loc[[id]]\n",
    "    text=clicked_article['all_text_processed'].values[0]\n",
    "    ix = indices[indices == id].index[0]\n",
    "    \n",
    "    similarity_scores = pd.Series(cosine_sim[ix]).sort_values(ascending = False)\n",
    "    \n",
    "    top_10_articles = list(similarity_scores.iloc[1:11].index)\n",
    "    \n",
    "    for i in top_10_articles:\n",
    "        recommended_articles.append(list(pc_present.index)[i])\n",
    "        \n",
    "        \n",
    "    return pc_present.loc[recommended_articles].title"
   ]
  },
  {
   "cell_type": "code",
   "execution_count": 108,
   "metadata": {},
   "outputs": [
    {
     "name": "stdout",
     "output_type": "stream",
     "text": [
      "Top 10 articles similar to the clicked ones are - \n"
     ]
    },
    {
     "data": {
      "text/plain": [
       "item_id\n",
       "-4110354420726924665    Ethereum, a Virtual Currency, Enables Transact...\n",
       " 3353902017498793780    The Rise And Growth of Ethereum Gets Mainstrea...\n",
       " 1485652648052127324    For Blockchain VCs, the Time for Ethereum Inve...\n",
       " 8084284001249507595    Microsoft Continues to Embrace Ethereum & Bitc...\n",
       "-1868297195590431285    Blockchain CEO's Business Advice on Bitcoin St...\n",
       " 1266958185239582088    Are you a bitcoin denialist? - Chris Skinner's...\n",
       "-6713697716910928909    Solidity Available in Visual Studio - Ethereum...\n",
       "-2273517184910006534    Venture Capitalists Inject Nearly Half a Billi...\n",
       " 4849766494522371290    Cashila Announces Convenient Buy and Sell Feat...\n",
       " 3067875254349597654    Microsoft Adds Ethereum to Windows Platform Fo...\n",
       "Name: title, dtype: object"
      ]
     },
     "execution_count": 108,
     "metadata": {},
     "output_type": "execute_result"
    }
   ],
   "source": [
    "print(\"Top 10 articles similar to the clicked ones are - \")\n",
    "\n",
    "#Insert the clicked item id to get top 10 recommendations\n",
    "#For example if item clicked is - 5274322067107287523\n",
    "\n",
    "cosine = recommendations(5274322067107287523)\n",
    "cosine"
   ]
  },
  {
   "cell_type": "markdown",
   "metadata": {},
   "source": [
    "For every click on an article, there is an Item_id associated with it. \n",
    "Thus, on providing an item id (for example:5274322067107287523) the system recommends the top 10 articles that are most relevant and most similar to the articles that have been previously clicked by the user. "
   ]
  },
  {
   "cell_type": "markdown",
   "metadata": {
    "id": "YNnXS56H3bL5"
   },
   "source": [
    "### Model 2 - K-means clustering\n",
    "\n",
    "- Encode the item text using tfidf tokenzer and then use K-Means clustering to create clusters of the doc. \n",
    "- Once we create the clusters, we can recommend the items from the same clusters. "
   ]
  },
  {
   "cell_type": "code",
   "execution_count": 109,
   "metadata": {},
   "outputs": [],
   "source": [
    "dfkmn=df.copy()\n",
    "dfkmn=dfkmn[dfkmn.language=='en']"
   ]
  },
  {
   "cell_type": "code",
   "execution_count": 110,
   "metadata": {},
   "outputs": [],
   "source": [
    "# combine all the relevent text for an item_id\n",
    "\n",
    "dfkmn['all_text']=dfkmn['title']+dfkmn['text_description']\n",
    "dfkmn['all_text']=dfkmn[['all_text','item_id']].groupby('item_id').transform(lambda x:' '.join(x))\n",
    "dftmp=dfkmn[['all_text','item_id']].drop_duplicates()"
   ]
  },
  {
   "cell_type": "code",
   "execution_count": 111,
   "metadata": {},
   "outputs": [
    {
     "data": {
      "text/html": [
       "<div>\n",
       "<style scoped>\n",
       "    .dataframe tbody tr th:only-of-type {\n",
       "        vertical-align: middle;\n",
       "    }\n",
       "\n",
       "    .dataframe tbody tr th {\n",
       "        vertical-align: top;\n",
       "    }\n",
       "\n",
       "    .dataframe thead th {\n",
       "        text-align: right;\n",
       "    }\n",
       "</style>\n",
       "<table border=\"1\" class=\"dataframe\">\n",
       "  <thead>\n",
       "    <tr style=\"text-align: right;\">\n",
       "      <th></th>\n",
       "      <th>all_text</th>\n",
       "      <th>item_id</th>\n",
       "    </tr>\n",
       "  </thead>\n",
       "  <tbody>\n",
       "    <tr>\n",
       "      <th>0</th>\n",
       "      <td>Hiri wants to fix the workplace email problemH...</td>\n",
       "      <td>-3499919498720038879</td>\n",
       "    </tr>\n",
       "    <tr>\n",
       "      <th>20</th>\n",
       "      <td>Top 10 Intranet Trends of 2016Summary: Hero im...</td>\n",
       "      <td>8890720798209849691</td>\n",
       "    </tr>\n",
       "    <tr>\n",
       "      <th>306</th>\n",
       "      <td>How This Googler Redesigned The WorkweekJake K...</td>\n",
       "      <td>-7820640624231356730</td>\n",
       "    </tr>\n",
       "    <tr>\n",
       "      <th>326</th>\n",
       "      <td>Chrome DevTools - Console API ReferenceThe Dev...</td>\n",
       "      <td>-1492913151930215984</td>\n",
       "    </tr>\n",
       "    <tr>\n",
       "      <th>380</th>\n",
       "      <td>Google, Amazon and the upcoming battle over AI...</td>\n",
       "      <td>3064370296170038610</td>\n",
       "    </tr>\n",
       "    <tr>\n",
       "      <th>...</th>\n",
       "      <td>...</td>\n",
       "      <td>...</td>\n",
       "    </tr>\n",
       "    <tr>\n",
       "      <th>72660</th>\n",
       "      <td>Yahoo discloses hack of 1 billion accountsYaho...</td>\n",
       "      <td>-7034660627992927630</td>\n",
       "    </tr>\n",
       "    <tr>\n",
       "      <th>72670</th>\n",
       "      <td>Oculus acquires eye-tracking startup The Eye T...</td>\n",
       "      <td>8057379878708189245</td>\n",
       "    </tr>\n",
       "    <tr>\n",
       "      <th>72673</th>\n",
       "      <td>Copyrighting DNA Is a Bad IdeaA few years ago,...</td>\n",
       "      <td>7029834616968294970</td>\n",
       "    </tr>\n",
       "    <tr>\n",
       "      <th>72675</th>\n",
       "      <td>The Ultimate Digital Clean-Up Checklist: Are Y...</td>\n",
       "      <td>-7108012586837980940</td>\n",
       "    </tr>\n",
       "    <tr>\n",
       "      <th>72676</th>\n",
       "      <td>Renewing Medium's focusWe've decided to make s...</td>\n",
       "      <td>7526977287801930517</td>\n",
       "    </tr>\n",
       "  </tbody>\n",
       "</table>\n",
       "<p>2149 rows × 2 columns</p>\n",
       "</div>"
      ],
      "text/plain": [
       "                                                all_text              item_id\n",
       "0      Hiri wants to fix the workplace email problemH... -3499919498720038879\n",
       "20     Top 10 Intranet Trends of 2016Summary: Hero im...  8890720798209849691\n",
       "306    How This Googler Redesigned The WorkweekJake K... -7820640624231356730\n",
       "326    Chrome DevTools - Console API ReferenceThe Dev... -1492913151930215984\n",
       "380    Google, Amazon and the upcoming battle over AI...  3064370296170038610\n",
       "...                                                  ...                  ...\n",
       "72660  Yahoo discloses hack of 1 billion accountsYaho... -7034660627992927630\n",
       "72670  Oculus acquires eye-tracking startup The Eye T...  8057379878708189245\n",
       "72673  Copyrighting DNA Is a Bad IdeaA few years ago,...  7029834616968294970\n",
       "72675  The Ultimate Digital Clean-Up Checklist: Are Y... -7108012586837980940\n",
       "72676  Renewing Medium's focusWe've decided to make s...  7526977287801930517\n",
       "\n",
       "[2149 rows x 2 columns]"
      ]
     },
     "execution_count": 111,
     "metadata": {},
     "output_type": "execute_result"
    }
   ],
   "source": [
    "dftmp"
   ]
  },
  {
   "cell_type": "code",
   "execution_count": 112,
   "metadata": {},
   "outputs": [],
   "source": [
    "# vectorize the text doc\n",
    "\n",
    "vectorizer = TfidfVectorizer(stop_words='english',max_features=7500)\n",
    "docs=vectorizer.fit_transform(dftmp.all_text)"
   ]
  },
  {
   "cell_type": "code",
   "execution_count": 113,
   "metadata": {},
   "outputs": [],
   "source": [
    "kmeans = KMeans(16)\n",
    "clstrs=kmeans.fit_predict(docs)\n",
    "dftmp['clusters']=clstrs"
   ]
  },
  {
   "cell_type": "code",
   "execution_count": 114,
   "metadata": {},
   "outputs": [],
   "source": [
    "def recommend_kmeans(item_id):\n",
    "    \n",
    "    a=int(dftmp[dftmp.item_id==item_id].clusters)\n",
    "    lst=list(dftmp[dftmp.clusters==a].item_id)\n",
    "    lst=[i for i in lst if i !=item_id][:10]\n",
    "    \n",
    "    return dfkmn[dfkmn.item_id.isin(lst)][['item_id','title']].drop_duplicates()"
   ]
  },
  {
   "cell_type": "code",
   "execution_count": 115,
   "metadata": {},
   "outputs": [
    {
     "name": "stdout",
     "output_type": "stream",
     "text": [
      "10 similar articles using kmeans clustering - \n"
     ]
    },
    {
     "data": {
      "text/html": [
       "<div>\n",
       "<style scoped>\n",
       "    .dataframe tbody tr th:only-of-type {\n",
       "        vertical-align: middle;\n",
       "    }\n",
       "\n",
       "    .dataframe tbody tr th {\n",
       "        vertical-align: top;\n",
       "    }\n",
       "\n",
       "    .dataframe thead th {\n",
       "        text-align: right;\n",
       "    }\n",
       "</style>\n",
       "<table border=\"1\" class=\"dataframe\">\n",
       "  <thead>\n",
       "    <tr style=\"text-align: right;\">\n",
       "      <th></th>\n",
       "      <th>item_id</th>\n",
       "      <th>title</th>\n",
       "    </tr>\n",
       "  </thead>\n",
       "  <tbody>\n",
       "    <tr>\n",
       "      <th>1157</th>\n",
       "      <td>3727587882617538492</td>\n",
       "      <td>Bitcoin In The Time Of Negative Interest Rates</td>\n",
       "    </tr>\n",
       "    <tr>\n",
       "      <th>1167</th>\n",
       "      <td>-692972306229904743</td>\n",
       "      <td>Blockchain won't kill banks: Bitcoin pioneer</td>\n",
       "    </tr>\n",
       "    <tr>\n",
       "      <th>1431</th>\n",
       "      <td>1431351528207086249</td>\n",
       "      <td>Global Blockchain Forum Launched to Coordinate...</td>\n",
       "    </tr>\n",
       "    <tr>\n",
       "      <th>1447</th>\n",
       "      <td>5508043659570633487</td>\n",
       "      <td>Using Blockchain to Authenticate University Di...</td>\n",
       "    </tr>\n",
       "    <tr>\n",
       "      <th>1463</th>\n",
       "      <td>2871648046424590878</td>\n",
       "      <td>UK Regulators Declare Start of</td>\n",
       "    </tr>\n",
       "    <tr>\n",
       "      <th>1558</th>\n",
       "      <td>5772565485432112058</td>\n",
       "      <td>U.S. State Department Recommends Development o...</td>\n",
       "    </tr>\n",
       "    <tr>\n",
       "      <th>4299</th>\n",
       "      <td>-6713697716910928909</td>\n",
       "      <td>Solidity Available in Visual Studio - Ethereum...</td>\n",
       "    </tr>\n",
       "    <tr>\n",
       "      <th>8399</th>\n",
       "      <td>7845570490247450966</td>\n",
       "      <td>How To Benefit From Getting Paid in Bitcoin</td>\n",
       "    </tr>\n",
       "    <tr>\n",
       "      <th>8999</th>\n",
       "      <td>7933360486658437274</td>\n",
       "      <td>Brazil's Bank Itaú Joins R3 Blockchain Consort...</td>\n",
       "    </tr>\n",
       "    <tr>\n",
       "      <th>10363</th>\n",
       "      <td>-6142462826726347616</td>\n",
       "      <td>CoinFest 2016: Uniting the World's Bitcoiners</td>\n",
       "    </tr>\n",
       "  </tbody>\n",
       "</table>\n",
       "</div>"
      ],
      "text/plain": [
       "                   item_id                                              title\n",
       "1157   3727587882617538492     Bitcoin In The Time Of Negative Interest Rates\n",
       "1167   -692972306229904743       Blockchain won't kill banks: Bitcoin pioneer\n",
       "1431   1431351528207086249  Global Blockchain Forum Launched to Coordinate...\n",
       "1447   5508043659570633487  Using Blockchain to Authenticate University Di...\n",
       "1463   2871648046424590878                     UK Regulators Declare Start of\n",
       "1558   5772565485432112058  U.S. State Department Recommends Development o...\n",
       "4299  -6713697716910928909  Solidity Available in Visual Studio - Ethereum...\n",
       "8399   7845570490247450966        How To Benefit From Getting Paid in Bitcoin\n",
       "8999   7933360486658437274  Brazil's Bank Itaú Joins R3 Blockchain Consort...\n",
       "10363 -6142462826726347616      CoinFest 2016: Uniting the World's Bitcoiners"
      ]
     },
     "execution_count": 115,
     "metadata": {},
     "output_type": "execute_result"
    }
   ],
   "source": [
    "print(\"10 similar articles using kmeans clustering - \")\n",
    "\n",
    "#Insert the clicked item id to get top 10 recommendations\n",
    "# here if item clicked is - 5274322067107287523\n",
    "\n",
    "kmns=recommend_kmeans(5274322067107287523)\n",
    "kmns"
   ]
  },
  {
   "cell_type": "markdown",
   "metadata": {},
   "source": [
    "### Model 3 - Using Topic Modelling\n",
    "\n",
    "We'll use LDA to generate the topics for the document. And then we can recommend the articles with similar topics."
   ]
  },
  {
   "cell_type": "code",
   "execution_count": 116,
   "metadata": {},
   "outputs": [],
   "source": [
    "dftpc=df.copy()\n",
    "dftpc=dftpc[dftpc.language=='en']"
   ]
  },
  {
   "cell_type": "code",
   "execution_count": 117,
   "metadata": {},
   "outputs": [],
   "source": [
    "# combine all the relevent text for an item_id\n",
    "\n",
    "dftpc['all_text']=dftpc['title']+dftpc['text_description']\n",
    "dftpc['all_text']=dftpc[['all_text','item_id']].groupby('item_id').transform(lambda x:' '.join(x))\n",
    "dftmp2=dftpc[['all_text','item_id']].drop_duplicates()"
   ]
  },
  {
   "cell_type": "code",
   "execution_count": 118,
   "metadata": {},
   "outputs": [],
   "source": [
    "class LemmaTokenizer(object):\n",
    "    \n",
    "    def __init__(self):\n",
    "        self.wnl = WordNetLemmatizer()\n",
    "\n",
    "    def __call__(self, articles):\n",
    "        return [self.wnl.lemmatize(t) for t in word_tokenize(articles)]"
   ]
  },
  {
   "cell_type": "code",
   "execution_count": 119,
   "metadata": {},
   "outputs": [],
   "source": [
    "# vectorize the text doc\n",
    "\n",
    "vectorizer = TfidfVectorizer(stop_words='english',max_features=7500,max_df=0.9)\n",
    "docs=vectorizer.fit_transform(dftmp2.all_text)"
   ]
  },
  {
   "cell_type": "code",
   "execution_count": 120,
   "metadata": {},
   "outputs": [],
   "source": [
    "vocab=vectorizer.get_feature_names()"
   ]
  },
  {
   "cell_type": "code",
   "execution_count": 121,
   "metadata": {},
   "outputs": [],
   "source": [
    "lda = LatentDirichletAllocation(n_components=16)\n",
    "tpc=lda.fit_transform(docs)"
   ]
  },
  {
   "cell_type": "code",
   "execution_count": 122,
   "metadata": {},
   "outputs": [],
   "source": [
    "words_list= lda.components_"
   ]
  },
  {
   "cell_type": "code",
   "execution_count": 123,
   "metadata": {},
   "outputs": [
    {
     "name": "stdout",
     "output_type": "stream",
     "text": [
      "\n",
      "Top words from this Topic\n",
      "['tribe', 'kubectl', 'containerd', 'hhvm', 'aquifer', 'l4', 'bytecode', 'autoscaler', 'taxicab', 'daos', 'mentoring', 'zend', 'proguard', 'pending', 'retrolambda']\n",
      "\n",
      "Top words from this Topic\n",
      "['react', 'js', 'japanese', '3d', 'swift', 'availability', 'category', 'bash', 'detection', 'item', 'tickets', 'syntax', 'door', 'tags', 'dna']\n",
      "\n",
      "Top words from this Topic\n",
      "['acquia', 'adobe', 'dao', 'trump', 'parsey', 'viv', 'syntaxnet', 'fasttext', 'los', 'angeles', 'brooklyn', 'frank', 'omnichannel', 'mcparseface', 'charlie']\n",
      "\n",
      "Top words from this Topic\n",
      "['cozmo', 'webassembly', 'openbazaar', 'ionic', 'torus', 'cordova', 'numpy', 'icloud', 'callahan', 'scipy', 'watermark', 'cowboy', 'gv', 'tensorboard', 'etcd']\n",
      "\n",
      "Top words from this Topic\n",
      "['hbr', 'spanner', 'magazine', 'articles', 'interviewer', 'bock', 'mobify', 'descartes', 'spinner', 'compound', 'qunit', 'mary', 'trooly', 'meeker', 'usda']\n",
      "\n",
      "Top words from this Topic\n",
      "['apfs', 'globo', 'kik', 'beacon', 'insightful', 'pebble', 'dell', 'thou', 'playstation', 'strictmode', 'plates', 'chester', 'posey', 'troubleshooting', 'logstash']\n",
      "\n",
      "Top words from this Topic\n",
      "['niantic', 'vpc', 'indian', 'mall', 'malls', 'itaú', 'emr', 'grocery', 'catmull', 'heroes', 'statista', 'adtech', 'javetski', 'harald', 'maechler']\n",
      "\n",
      "Top words from this Topic\n",
      "['swift', 'docker', 'elasticsearch', 'jenkins', 'thunder', 'guests', 'coreos', 'gce', 'cheese', 'vpn', 'easter', 'corpus', 'keystoneml', 'preemptible', 'alecrimcoredata']\n",
      "\n",
      "Top words from this Topic\n",
      "['constraintlayout', 'quip', 'coaching', 'unsupervised', 'coach', 'therapy', 'goldin', 'nintendo', 'zuul', 'smarterchild', 'cursor', 'weave', 'virality', 'therapists', 'hibernate']\n",
      "\n",
      "Top words from this Topic\n",
      "['firebase', 'ether', 'electricity', 'mario', 'xamarin', 'deeptext', 'fabric', 'nintendo', 'kibana', 'lego', 'sandbox', 'workplaces', 'es5', 'sdks', 'rollup']\n",
      "\n",
      "Top words from this Topic\n",
      "['leaf', 'broadcast', 'recyclerview', 'heroku', 'aliases', 'diabetes', 'webhook', 'bff', 'jpeg', 'prefetch', 'increment', 'reactors', 'bffs', 'responders', 'holder']\n",
      "\n",
      "Top words from this Topic\n",
      "['google', 'data', 'new', 'like', 'learning', 'time', 'cloud', 'people', 'app', 'use', 'company', 'machine', 'apple', 'code', 'just']\n",
      "\n",
      "Top words from this Topic\n",
      "['aggregations', 'bdd', 'verb', 'jsf', 'autofill', 'blake', 'bock', 'cnbc', 'distro', 'humility', 'zigbee', 'tiered', 'arch', 'opensuse', 'spokes']\n",
      "\n",
      "Top words from this Topic\n",
      "['bluemix', 'auth', 'ssd', 'ctrl', 'clipboard', 'walkthrough', 'differential', 'rankbrain', 'disks', 'faculty', 'sitemap', 'federighi', 'torrent', 'rc', 'jira']\n",
      "\n",
      "Top words from this Topic\n",
      "['mars', 'evernote', 'palantir', 'mycroft', 'synergyse', 'ge', 'quantum', 'cpg', 'supervised', 'waterwheel', 'sas', 'gourmet', 'predix', 'etcd', 'kana']\n",
      "\n",
      "Top words from this Topic\n",
      "['kotlin', 'polymer', 'globant', 'rep', 'gradle', 'shadow', 'einstein', 'todd', 'payload', 'cios', 'reps', 'recordings', 'feather', 'overlay', 'sweat']\n"
     ]
    }
   ],
   "source": [
    "# Checking top 15 words in each topic\n",
    "\n",
    "def get_top15(ind):\n",
    "    lst=np.argsort(ind)[:-16:-1]\n",
    "    return [vocab[i] for i in lst]\n",
    "\n",
    "for i in words_list:\n",
    "    print('\\nTop words from this Topic')\n",
    "    print(get_top15(i))"
   ]
  },
  {
   "cell_type": "markdown",
   "metadata": {},
   "source": [
    "If we observe output above - top 15 words in each, we notice that they have  been clustered in similar docs\n",
    "\n",
    "For example - \n",
    "\n",
    "Top words from one of the topics are -\n",
    "'google', 'data', 'new', 'learning', 'like', 'cloud', 'time', 'use', 'people', 'app', 'code', 'just', 'machine', 'drupal', 'work'\n",
    "\n",
    "It can be observed that the these words are from topics similar to technology - goodle, data, cloud etc. \n",
    "\n",
    "Similarly for another topic -\n",
    "'blockchain', 'bitcoin', 'bank', 'banks', 'banking', 'financial', 'kubernetes', 'ethereum', 'fintech', 'payments', 'currency', 'digital', 'payment', 'institutions', 'ledger'\n",
    "\n",
    "There's no denying in saying that topic has clustered words reated to digital currency/ cryptocurrency or payments and storage. "
   ]
  },
  {
   "cell_type": "markdown",
   "metadata": {},
   "source": [
    " Now, Let's Recommend articles based on above clustering"
   ]
  },
  {
   "cell_type": "code",
   "execution_count": 124,
   "metadata": {},
   "outputs": [],
   "source": [
    "clstrs=[np.argmax(i) for i in tpc]\n",
    "dftmp2['clusters']=clstrs\n",
    "\n",
    "def recommend_topic(item_id):\n",
    "    \n",
    "    a=int(dftmp2[dftmp2.item_id==item_id].clusters)\n",
    "    lst=list(dftmp2[dftmp2.clusters==a].item_id)\n",
    "    lst=[i for i in lst if i !=item_id][:10]\n",
    "    \n",
    "    return dftpc[dftpc.item_id.isin(lst)][['item_id','title']].drop_duplicates()"
   ]
  },
  {
   "cell_type": "code",
   "execution_count": 125,
   "metadata": {},
   "outputs": [
    {
     "name": "stdout",
     "output_type": "stream",
     "text": [
      "10 similar articles using Topic Modeling - \n"
     ]
    },
    {
     "data": {
      "text/html": [
       "<div>\n",
       "<style scoped>\n",
       "    .dataframe tbody tr th:only-of-type {\n",
       "        vertical-align: middle;\n",
       "    }\n",
       "\n",
       "    .dataframe tbody tr th {\n",
       "        vertical-align: top;\n",
       "    }\n",
       "\n",
       "    .dataframe thead th {\n",
       "        text-align: right;\n",
       "    }\n",
       "</style>\n",
       "<table border=\"1\" class=\"dataframe\">\n",
       "  <thead>\n",
       "    <tr style=\"text-align: right;\">\n",
       "      <th></th>\n",
       "      <th>item_id</th>\n",
       "      <th>title</th>\n",
       "    </tr>\n",
       "  </thead>\n",
       "  <tbody>\n",
       "    <tr>\n",
       "      <th>0</th>\n",
       "      <td>-3499919498720038879</td>\n",
       "      <td>Hiri wants to fix the workplace email problem</td>\n",
       "    </tr>\n",
       "    <tr>\n",
       "      <th>20</th>\n",
       "      <td>8890720798209849691</td>\n",
       "      <td>Top 10 Intranet Trends of 2016</td>\n",
       "    </tr>\n",
       "    <tr>\n",
       "      <th>306</th>\n",
       "      <td>-7820640624231356730</td>\n",
       "      <td>How This Googler Redesigned The Workweek</td>\n",
       "    </tr>\n",
       "    <tr>\n",
       "      <th>326</th>\n",
       "      <td>-1492913151930215984</td>\n",
       "      <td>Chrome DevTools - Console API Reference</td>\n",
       "    </tr>\n",
       "    <tr>\n",
       "      <th>380</th>\n",
       "      <td>3064370296170038610</td>\n",
       "      <td>Google, Amazon and the upcoming battle over AI...</td>\n",
       "    </tr>\n",
       "    <tr>\n",
       "      <th>428</th>\n",
       "      <td>7763750328910542816</td>\n",
       "      <td>This Japanese Restaurant Is Decked out With Ya...</td>\n",
       "    </tr>\n",
       "    <tr>\n",
       "      <th>436</th>\n",
       "      <td>2372438485070148864</td>\n",
       "      <td>The Continuous Delivery Maturity Model</td>\n",
       "    </tr>\n",
       "    <tr>\n",
       "      <th>614</th>\n",
       "      <td>-348408475077850711</td>\n",
       "      <td>Introduction to release engineering</td>\n",
       "    </tr>\n",
       "    <tr>\n",
       "      <th>699</th>\n",
       "      <td>6521856301289868251</td>\n",
       "      <td>Notes on Reactive Programming Part I: The Reac...</td>\n",
       "    </tr>\n",
       "    <tr>\n",
       "      <th>784</th>\n",
       "      <td>7943088471380012839</td>\n",
       "      <td>Torus</td>\n",
       "    </tr>\n",
       "  </tbody>\n",
       "</table>\n",
       "</div>"
      ],
      "text/plain": [
       "                 item_id                                              title\n",
       "0   -3499919498720038879      Hiri wants to fix the workplace email problem\n",
       "20   8890720798209849691                     Top 10 Intranet Trends of 2016\n",
       "306 -7820640624231356730           How This Googler Redesigned The Workweek\n",
       "326 -1492913151930215984            Chrome DevTools - Console API Reference\n",
       "380  3064370296170038610  Google, Amazon and the upcoming battle over AI...\n",
       "428  7763750328910542816  This Japanese Restaurant Is Decked out With Ya...\n",
       "436  2372438485070148864             The Continuous Delivery Maturity Model\n",
       "614  -348408475077850711                Introduction to release engineering\n",
       "699  6521856301289868251  Notes on Reactive Programming Part I: The Reac...\n",
       "784  7943088471380012839                                              Torus"
      ]
     },
     "execution_count": 125,
     "metadata": {},
     "output_type": "execute_result"
    }
   ],
   "source": [
    "print(\"10 similar articles using Topic Modeling - \")\n",
    "\n",
    "#Insert the clicked item id to get top 10 recommendations\n",
    "# here if item clicked is - 5274322067107287523\n",
    "\n",
    "tpmdl=recommend_topic(5274322067107287523)\n",
    "tpmdl"
   ]
  },
  {
   "cell_type": "markdown",
   "metadata": {},
   "source": [
    "To check the accurary of the three models, we'll be using Latent Semantic Indexing or LSI score. It measures the text similarity. Text similarity has to determine how ‘close’ two pieces of text are both in surface closeness (lexical similarity) and meaning (semantic similarity). This is achieved by reducing the dimensionality of the document vectors by applying latent semantic analysis."
   ]
  },
  {
   "cell_type": "code",
   "execution_count": 127,
   "metadata": {},
   "outputs": [],
   "source": [
    "#LSI score for Model-1 (Cosine Similarity)\n",
    "\n",
    "dfcos=dftmp2[dftmp2.item_id.isin(cosine.index)].all_text\n",
    "corpus = [preprocess(text) for text in dfcos.tolist()]"
   ]
  },
  {
   "cell_type": "code",
   "execution_count": 128,
   "metadata": {},
   "outputs": [],
   "source": [
    "dictionary = corpora.Dictionary(corpus)\n",
    "corpus_gensim = [dictionary.doc2bow(doc) for doc in corpus]\n",
    "tfidf = TfidfModel(corpus_gensim)\n",
    "corpus_tfidf = tfidf[corpus_gensim]\n",
    "lsi = LsiModel(corpus_tfidf, id2word=dictionary)\n",
    "lsi_index = MatrixSimilarity(lsi[corpus_tfidf])\n",
    "sim_matrix = np.array([lsi_index[lsi[corpus_tfidf[i]]]\n",
    "                                for i in range(len(corpus))])"
   ]
  },
  {
   "cell_type": "code",
   "execution_count": 129,
   "metadata": {},
   "outputs": [
    {
     "data": {
      "text/plain": [
       "0.20825481414794922"
      ]
     },
     "execution_count": 129,
     "metadata": {},
     "output_type": "execute_result"
    }
   ],
   "source": [
    "# LSI score\n",
    "\n",
    "np.sum(sim_matrix)/(len(corpus)**2)"
   ]
  },
  {
   "cell_type": "code",
   "execution_count": 130,
   "metadata": {},
   "outputs": [],
   "source": [
    "# LSI score for Model - 2 (kmeans clustering)\n",
    "\n",
    "dfcos=dftmp2[dftmp2.item_id.isin(kmns.item_id)].all_text\n",
    "corpus = [preprocess(text) for text in dfcos.tolist()]"
   ]
  },
  {
   "cell_type": "code",
   "execution_count": 131,
   "metadata": {},
   "outputs": [],
   "source": [
    "dictionary = corpora.Dictionary(corpus)\n",
    "corpus_gensim = [dictionary.doc2bow(doc) for doc in corpus]\n",
    "tfidf = TfidfModel(corpus_gensim)\n",
    "corpus_tfidf = tfidf[corpus_gensim]\n",
    "lsi = LsiModel(corpus_tfidf, id2word=dictionary)\n",
    "lsi_index = MatrixSimilarity(lsi[corpus_tfidf])\n",
    "sim_matrix = np.array([lsi_index[lsi[corpus_tfidf[i]]]\n",
    "                                for i in range(len(corpus))])"
   ]
  },
  {
   "cell_type": "code",
   "execution_count": 132,
   "metadata": {},
   "outputs": [
    {
     "data": {
      "text/plain": [
       "0.12610627174377442"
      ]
     },
     "execution_count": 132,
     "metadata": {},
     "output_type": "execute_result"
    }
   ],
   "source": [
    "# LSI score\n",
    "\n",
    "np.sum(sim_matrix)/(len(corpus)**2)"
   ]
  },
  {
   "cell_type": "code",
   "execution_count": 133,
   "metadata": {},
   "outputs": [],
   "source": [
    "# LSI score for model - 3 (Topic Modeling)\n",
    "\n",
    "dfcos=dftmp2[dftmp2.item_id.isin(tpmdl.item_id)].all_text\n",
    "corpus = [preprocess(text) for text in dfcos.tolist()]"
   ]
  },
  {
   "cell_type": "code",
   "execution_count": 134,
   "metadata": {},
   "outputs": [],
   "source": [
    "dictionary = corpora.Dictionary(corpus)\n",
    "corpus_gensim = [dictionary.doc2bow(doc) for doc in corpus]\n",
    "tfidf = TfidfModel(corpus_gensim)\n",
    "corpus_tfidf = tfidf[corpus_gensim]\n",
    "lsi = LsiModel(corpus_tfidf, id2word=dictionary)\n",
    "lsi_index = MatrixSimilarity(lsi[corpus_tfidf])\n",
    "sim_matrix = np.array([lsi_index[lsi[corpus_tfidf[i]]]\n",
    "                                for i in range(len(corpus))])"
   ]
  },
  {
   "cell_type": "code",
   "execution_count": 135,
   "metadata": {},
   "outputs": [
    {
     "data": {
      "text/plain": [
       "0.11970484733581543"
      ]
     },
     "execution_count": 135,
     "metadata": {},
     "output_type": "execute_result"
    }
   ],
   "source": [
    "# LSI score\n",
    "\n",
    "np.sum(sim_matrix)/(len(corpus)**2)"
   ]
  },
  {
   "cell_type": "markdown",
   "metadata": {},
   "source": [
    "### Observations:\n",
    "\n",
    "LSI score of the models \n",
    "\n",
    "\n",
    "- Cosine similarity : 0.208\n",
    "- K-means clustering : 0.1263\n",
    "- Topic Modeling : 0.1197\n",
    "\n",
    "\n",
    "Model 1 Cosine similarity has the highest LSI score out of the three models. Thus, We can conclude that it suggests most relevant and new articles precisely similar to the ones clicked. "
   ]
  }
 ],
 "metadata": {
  "colab": {
   "collapsed_sections": [],
   "name": "RecommendationSystem.ipynb",
   "provenance": []
  },
  "kernelspec": {
   "display_name": "Python 3",
   "language": "python",
   "name": "python3"
  },
  "language_info": {
   "codemirror_mode": {
    "name": "ipython",
    "version": 3
   },
   "file_extension": ".py",
   "mimetype": "text/x-python",
   "name": "python",
   "nbconvert_exporter": "python",
   "pygments_lexer": "ipython3",
   "version": "3.8.8"
  }
 },
 "nbformat": 4,
 "nbformat_minor": 1
}
